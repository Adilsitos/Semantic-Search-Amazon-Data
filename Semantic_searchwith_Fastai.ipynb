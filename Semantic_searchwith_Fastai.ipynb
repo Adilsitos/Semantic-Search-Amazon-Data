{
  "nbformat": 4,
  "nbformat_minor": 2,
  "metadata": {
    "colab": {
      "name": "DataLoaders Creation with Metadata",
      "provenance": [],
      "collapsed_sections": []
    },
    "kernelspec": {
      "name": "python3",
      "display_name": "Python 3"
    },
    "language_info": {
      "name": "python"
    },
    "accelerator": "GPU",
    "widgets": {
      "application/vnd.jupyter.widget-state+json": {
        "736bb7c4d2524ec69e3315ad7ae663c2": {
          "model_module": "@jupyter-widgets/controls",
          "model_name": "HBoxModel",
          "state": {
            "_view_name": "HBoxView",
            "_dom_classes": [],
            "_model_name": "HBoxModel",
            "_view_module": "@jupyter-widgets/controls",
            "_model_module_version": "1.5.0",
            "_view_count": null,
            "_view_module_version": "1.5.0",
            "box_style": "",
            "layout": "IPY_MODEL_adf5d6b91bb24a4f9f3f43236d82d114",
            "_model_module": "@jupyter-widgets/controls",
            "children": [
              "IPY_MODEL_fa9be7eb467c4458b32e93caa48618e4",
              "IPY_MODEL_7fecb5014d8d4f64860e7b6aba2d866c"
            ]
          }
        },
        "adf5d6b91bb24a4f9f3f43236d82d114": {
          "model_module": "@jupyter-widgets/base",
          "model_name": "LayoutModel",
          "state": {
            "_view_name": "LayoutView",
            "grid_template_rows": null,
            "right": null,
            "justify_content": null,
            "_view_module": "@jupyter-widgets/base",
            "overflow": null,
            "_model_module_version": "1.2.0",
            "_view_count": null,
            "flex_flow": null,
            "width": null,
            "min_width": null,
            "border": null,
            "align_items": null,
            "bottom": null,
            "_model_module": "@jupyter-widgets/base",
            "top": null,
            "grid_column": null,
            "overflow_y": null,
            "overflow_x": null,
            "grid_auto_flow": null,
            "grid_area": null,
            "grid_template_columns": null,
            "flex": null,
            "_model_name": "LayoutModel",
            "justify_items": null,
            "grid_row": null,
            "max_height": null,
            "align_content": null,
            "visibility": null,
            "align_self": null,
            "height": null,
            "min_height": null,
            "padding": null,
            "grid_auto_rows": null,
            "grid_gap": null,
            "max_width": null,
            "order": null,
            "_view_module_version": "1.2.0",
            "grid_template_areas": null,
            "object_position": null,
            "object_fit": null,
            "grid_auto_columns": null,
            "margin": null,
            "display": null,
            "left": null
          }
        },
        "fa9be7eb467c4458b32e93caa48618e4": {
          "model_module": "@jupyter-widgets/controls",
          "model_name": "FloatProgressModel",
          "state": {
            "_view_name": "ProgressView",
            "style": "IPY_MODEL_88a2234722c549309379ba55c368de1b",
            "_dom_classes": [],
            "description": "  0%",
            "_model_name": "FloatProgressModel",
            "bar_style": "",
            "max": 47684,
            "_view_module": "@jupyter-widgets/controls",
            "_model_module_version": "1.5.0",
            "value": 18,
            "_view_count": null,
            "_view_module_version": "1.5.0",
            "orientation": "horizontal",
            "min": 0,
            "description_tooltip": null,
            "_model_module": "@jupyter-widgets/controls",
            "layout": "IPY_MODEL_2c5c27144ef644618931423c810b34f5"
          }
        },
        "7fecb5014d8d4f64860e7b6aba2d866c": {
          "model_module": "@jupyter-widgets/controls",
          "model_name": "HTMLModel",
          "state": {
            "_view_name": "HTMLView",
            "style": "IPY_MODEL_a4530a36388242a0b344c3d041a69951",
            "_dom_classes": [],
            "description": "",
            "_model_name": "HTMLModel",
            "placeholder": "​",
            "_view_module": "@jupyter-widgets/controls",
            "_model_module_version": "1.5.0",
            "value": " 18/47684 [04:13&lt;201:49:57, 15.24s/it]",
            "_view_count": null,
            "_view_module_version": "1.5.0",
            "description_tooltip": null,
            "_model_module": "@jupyter-widgets/controls",
            "layout": "IPY_MODEL_9953a904b46b4796ad7e86c5c42708bc"
          }
        },
        "88a2234722c549309379ba55c368de1b": {
          "model_module": "@jupyter-widgets/controls",
          "model_name": "ProgressStyleModel",
          "state": {
            "_view_name": "StyleView",
            "_model_name": "ProgressStyleModel",
            "description_width": "initial",
            "_view_module": "@jupyter-widgets/base",
            "_model_module_version": "1.5.0",
            "_view_count": null,
            "_view_module_version": "1.2.0",
            "bar_color": null,
            "_model_module": "@jupyter-widgets/controls"
          }
        },
        "2c5c27144ef644618931423c810b34f5": {
          "model_module": "@jupyter-widgets/base",
          "model_name": "LayoutModel",
          "state": {
            "_view_name": "LayoutView",
            "grid_template_rows": null,
            "right": null,
            "justify_content": null,
            "_view_module": "@jupyter-widgets/base",
            "overflow": null,
            "_model_module_version": "1.2.0",
            "_view_count": null,
            "flex_flow": null,
            "width": null,
            "min_width": null,
            "border": null,
            "align_items": null,
            "bottom": null,
            "_model_module": "@jupyter-widgets/base",
            "top": null,
            "grid_column": null,
            "overflow_y": null,
            "overflow_x": null,
            "grid_auto_flow": null,
            "grid_area": null,
            "grid_template_columns": null,
            "flex": null,
            "_model_name": "LayoutModel",
            "justify_items": null,
            "grid_row": null,
            "max_height": null,
            "align_content": null,
            "visibility": null,
            "align_self": null,
            "height": null,
            "min_height": null,
            "padding": null,
            "grid_auto_rows": null,
            "grid_gap": null,
            "max_width": null,
            "order": null,
            "_view_module_version": "1.2.0",
            "grid_template_areas": null,
            "object_position": null,
            "object_fit": null,
            "grid_auto_columns": null,
            "margin": null,
            "display": null,
            "left": null
          }
        },
        "a4530a36388242a0b344c3d041a69951": {
          "model_module": "@jupyter-widgets/controls",
          "model_name": "DescriptionStyleModel",
          "state": {
            "_view_name": "StyleView",
            "_model_name": "DescriptionStyleModel",
            "description_width": "",
            "_view_module": "@jupyter-widgets/base",
            "_model_module_version": "1.5.0",
            "_view_count": null,
            "_view_module_version": "1.2.0",
            "_model_module": "@jupyter-widgets/controls"
          }
        },
        "9953a904b46b4796ad7e86c5c42708bc": {
          "model_module": "@jupyter-widgets/base",
          "model_name": "LayoutModel",
          "state": {
            "_view_name": "LayoutView",
            "grid_template_rows": null,
            "right": null,
            "justify_content": null,
            "_view_module": "@jupyter-widgets/base",
            "overflow": null,
            "_model_module_version": "1.2.0",
            "_view_count": null,
            "flex_flow": null,
            "width": null,
            "min_width": null,
            "border": null,
            "align_items": null,
            "bottom": null,
            "_model_module": "@jupyter-widgets/base",
            "top": null,
            "grid_column": null,
            "overflow_y": null,
            "overflow_x": null,
            "grid_auto_flow": null,
            "grid_area": null,
            "grid_template_columns": null,
            "flex": null,
            "_model_name": "LayoutModel",
            "justify_items": null,
            "grid_row": null,
            "max_height": null,
            "align_content": null,
            "visibility": null,
            "align_self": null,
            "height": null,
            "min_height": null,
            "padding": null,
            "grid_auto_rows": null,
            "grid_gap": null,
            "max_width": null,
            "order": null,
            "_view_module_version": "1.2.0",
            "grid_template_areas": null,
            "object_position": null,
            "object_fit": null,
            "grid_auto_columns": null,
            "margin": null,
            "display": null,
            "left": null
          }
        }
      }
    }
  },
  "cells": [
    {
      "cell_type": "code",
      "execution_count": null,
      "source": [
        "pip install -Uqq fastai"
      ],
      "outputs": [
        {
          "output_type": "stream",
          "name": "stdout",
          "text": [
            "\u001b[?25l\r\u001b[K     |█▊                              | 10 kB 23.6 MB/s eta 0:00:01\r\u001b[K     |███▌                            | 20 kB 27.2 MB/s eta 0:00:01\r\u001b[K     |█████▎                          | 30 kB 32.5 MB/s eta 0:00:01\r\u001b[K     |███████                         | 40 kB 35.5 MB/s eta 0:00:01\r\u001b[K     |████████▊                       | 51 kB 37.2 MB/s eta 0:00:01\r\u001b[K     |██████████▌                     | 61 kB 35.8 MB/s eta 0:00:01\r\u001b[K     |████████████▏                   | 71 kB 34.3 MB/s eta 0:00:01\r\u001b[K     |██████████████                  | 81 kB 32.6 MB/s eta 0:00:01\r\u001b[K     |███████████████▊                | 92 kB 30.9 MB/s eta 0:00:01\r\u001b[K     |█████████████████▍              | 102 kB 31.0 MB/s eta 0:00:01\r\u001b[K     |███████████████████▏            | 112 kB 31.0 MB/s eta 0:00:01\r\u001b[K     |█████████████████████           | 122 kB 31.0 MB/s eta 0:00:01\r\u001b[K     |██████████████████████▋         | 133 kB 31.0 MB/s eta 0:00:01\r\u001b[K     |████████████████████████▍       | 143 kB 31.0 MB/s eta 0:00:01\r\u001b[K     |██████████████████████████▏     | 153 kB 31.0 MB/s eta 0:00:01\r\u001b[K     |███████████████████████████▉    | 163 kB 31.0 MB/s eta 0:00:01\r\u001b[K     |█████████████████████████████▋  | 174 kB 31.0 MB/s eta 0:00:01\r\u001b[K     |███████████████████████████████▍| 184 kB 31.0 MB/s eta 0:00:01\r\u001b[K     |████████████████████████████████| 188 kB 31.0 MB/s \n",
            "\u001b[?25h\u001b[?25l\r\u001b[K     |██████                          | 10 kB 37.3 MB/s eta 0:00:01\r\u001b[K     |████████████▏                   | 20 kB 42.2 MB/s eta 0:00:01\r\u001b[K     |██████████████████▎             | 30 kB 46.9 MB/s eta 0:00:01\r\u001b[K     |████████████████████████▍       | 40 kB 49.7 MB/s eta 0:00:01\r\u001b[K     |██████████████████████████████▌ | 51 kB 50.7 MB/s eta 0:00:01\r\u001b[K     |████████████████████████████████| 53 kB 2.5 MB/s \n",
            "\u001b[?25h"
          ]
        }
      ],
      "metadata": {
        "id": "ZXDOHvpr5bF-",
        "colab": {
          "base_uri": "https://localhost:8080/"
        },
        "outputId": "0ce798da-e63b-46e3-9e0f-cadb91ed8959"
      }
    },
    {
      "cell_type": "code",
      "execution_count": null,
      "source": [
        "import os\r\n",
        "import json\r\n",
        "import gzip\r\n",
        "import torch\r\n",
        "import pandas as pd\r\n",
        "import numpy as np\r\n",
        "\r\n",
        "from urllib.request import urlopen\r\n",
        "from tqdm.autonotebook import trange\r\n",
        "from fastai.text.all import *"
      ],
      "outputs": [],
      "metadata": {
        "id": "Uzs5rStwqOKi"
      }
    },
    {
      "cell_type": "markdown",
      "source": [
        "# Get and parse data"
      ],
      "metadata": {
        "id": "eWEqT0URfSOD"
      }
    },
    {
      "cell_type": "code",
      "execution_count": null,
      "source": [
        "# Must have filled a form to use the data: https://forms.gle/A8hBfPxKkKGFCP238\r\n",
        "\r\n",
        "!wget http://deepyeti.ucsd.edu/jianmo/amazon/metaFiles2/meta_Books.json.gz"
      ],
      "outputs": [
        {
          "output_type": "stream",
          "name": "stdout",
          "text": [
            "--2021-07-25 10:11:58--  http://deepyeti.ucsd.edu/jianmo/amazon/metaFiles2/meta_Books.json.gz\n",
            "Resolving deepyeti.ucsd.edu (deepyeti.ucsd.edu)... 169.228.63.50\n",
            "Connecting to deepyeti.ucsd.edu (deepyeti.ucsd.edu)|169.228.63.50|:80... connected.\n",
            "HTTP request sent, awaiting response... 200 OK\n",
            "Length: 1219104464 (1.1G) [application/octet-stream]\n",
            "Saving to: ‘meta_Books.json.gz.1’\n",
            "\n",
            "meta_Books.json.gz. 100%[===================>]   1.13G  39.9MB/s    in 30s     \n",
            "\n",
            "2021-07-25 10:12:27 (39.3 MB/s) - ‘meta_Books.json.gz.1’ saved [1219104464/1219104464]\n",
            "\n"
          ]
        }
      ],
      "metadata": {
        "colab": {
          "base_uri": "https://localhost:8080/"
        },
        "id": "KiuErXomtguM",
        "outputId": "25da9808-d2a0-4a55-bc95-9ca9e4b67b04"
      }
    },
    {
      "cell_type": "code",
      "execution_count": null,
      "source": [
        "# Procedure to get metadata for one book.\r\n",
        "\r\n",
        "with gzip.open('/content/meta_Books.json.gz') as g:\r\n",
        "  for l in g:\r\n",
        "    print (json.loads(l))\r\n",
        "    break"
      ],
      "outputs": [
        {
          "output_type": "stream",
          "name": "stdout",
          "text": [
            "{'category': [], 'tech1': '', 'description': ['It is a biology book with God&apos;s perspective.'], 'fit': '', 'title': 'Biology Gods Living Creation Third Edition 10 (A Beka Book Science Series)', 'also_buy': ['0669009075', 'B000K2P5SA', 'B00MD4G2N0', 'B000ASIPTK', '0130508470', '1892427524', '0321567919', 'B000BJBH20', '0547484631', 'B000HAJTQO', 'B000AUCX7I', '0130365645', 'B000BI1Y2O', '0395976715', '052817729X', '1579246443', 'B001CK63XK', '1591669847', '0395879884', '836585161X', 'B01J2F9BH6', 'B00KYEHR4E', '158008141X', '1857928393', '0927545829', 'B015AR0RA0', 'B000TVHHRE', '0865167990', '1579246052', 'B003NXXVD4', 'B000OH6AX0', '061802087X', 'B000NU2X02', '0743252012'], 'tech2': '', 'brand': 'Keith Graham', 'feature': [], 'rank': '1,349,781 in Books (', 'also_view': ['0019777701', 'B000AUCX7I', 'B000K2P5SA', 'B001CK63XK', 'B01J2F9BH6', 'B000BI1Y2O', '1932012540', 'B0095ZCRCK'], 'main_cat': 'Books', 'similar_item': '', 'date': '', 'price': '$39.94', 'asin': '0000092878', 'imageURL': [], 'imageURLHighRes': []}\n"
          ]
        }
      ],
      "metadata": {
        "colab": {
          "base_uri": "https://localhost:8080/"
        },
        "id": "D2pjvRVJqewJ",
        "outputId": "bc909622-bf27-4d26-d330-e7f37b4c5bb6"
      }
    },
    {
      "cell_type": "code",
      "execution_count": null,
      "source": [
        "def parse(path):\r\n",
        "  \"\"\"\r\n",
        "  Open the JSON file and yield every line.\r\n",
        "  \"\"\"\r\n",
        "  with gzip.open(path) as g:\r\n",
        "    for l in g:\r\n",
        "      yield json.loads(l)\r\n",
        "\r\n",
        "def getDF(path, max_items=None):\r\n",
        "  \"\"\"\r\n",
        "  Get `max_items` and turn them into a pandas DataFrame. \r\n",
        "  \"\"\"\r\n",
        "  i = 0\r\n",
        "  df = {}\r\n",
        "  for d in parse(path):\r\n",
        "    if max_items and i == max_items:\r\n",
        "      break\r\n",
        "    df[i] = {}    \r\n",
        "    try:\r\n",
        "      df[i]['title'] = d['title']\r\n",
        "    except KeyError:\r\n",
        "      pass\r\n",
        "    try:\r\n",
        "      df[i]['description'] = d['description'][0] \r\n",
        "    except IndexError: \r\n",
        "      pass\r\n",
        "    i += 1\r\n",
        "  return pd.DataFrame.from_dict(df, orient='index', columns=['title', 'description'])"
      ],
      "outputs": [],
      "metadata": {
        "id": "YBItWGIiq_f1"
      }
    },
    {
      "cell_type": "code",
      "execution_count": null,
      "source": [
        "df = getDF('/content/meta_Books.json.gz', max_items=None)"
      ],
      "outputs": [],
      "metadata": {
        "id": "cS1veFbkrkUc"
      }
    },
    {
      "cell_type": "code",
      "execution_count": null,
      "source": [
        "df"
      ],
      "outputs": [
        {
          "output_type": "execute_result",
          "data": {
            "text/plain": [
              "                                                                                                                                                                title                                                                                                                                                                                                                                                                                                                                                                                                description\n",
              "0                                                                                          Biology Gods Living Creation Third Edition 10 (A Beka Book Science Series)                                                                                                                                                                                                                                                                                                                                                          It is a biology book with God&apos;s perspective.\n",
              "1                                                                                      Flex! Discography of North American Punk, Hardcore, and Powerpop 1975-1985 A-M                                                                                                                                                                                                                                                                                                                                                      Discography of American Punk, Hardcore, and Power Pop\n",
              "2                                                                                                                          Heavenly Highway Hymns: Shaped-Note Hymnal                                                                                                                                                                                                                                                                                                                 This is a collection of classic gospel hymns that many churches still enjoy singing today.\n",
              "3        Principles of Analgesic Use in the Treatment of Acute Pain and Cancer Pain (APS, Principles of Analgesic Use in the Treatment of Acute Pain and Cancer Pain)                                                                                                                                                                                                                                                                                                                                                                                     Brand new; never used.\n",
              "4                                                                                                                                            MKSAP 15 Audio Companion                                                                                                                                                                                                                                                                                                               Flash cards used with accompany MKSAP 15 audio companion. \\nExtremely useful for board exam.\n",
              "...                                                                                                                                                               ...                                                                                                                                                                                                                                                                                                                                                                                                        ...\n",
              "2384192                                                                                             The Walking Dead The Official Magazine Issue # 17 Newsstand Cover                                                                                                                                                                     The OFFICIAL THE WALKING DEAD MAGAZINE #17. 100 PAGE ISSUE!!! Feature Interviews with Cast and Crew plus TONS MORE Loaded with Full Color Photos front to back.Comes with a special insert called The Walking Dead Collector's Models.\n",
              "2384193                                                                                                               Busoni : Konzertstuck fur Klavier mit Orchester  Busoni, Ferruccio : Konzertstck fr Klavier mit Orchester. Op. 31a. Fr zwei Klaviere zu vier Hnden. (2. Klavier an Stelle des Orchesters). Piano Music - 2-Piano Scores This is an Eastman Scores Publishing professional reprint of the work originally published by: Breitkopf & Hartel, Leipzig, 1892, 2 scores, 38 pp. Sheet Music Eastman Scores Publishing Library Commerce ISMN : 979-0-087-00129-8\n",
              "2384194                                                                                               Entertainment Weekly Magazine July 1 2016 | Star Wars Rogue One                                                                                                                                                                                                                                                                                                                                        New Entertainment Weekly Magazine July 1 2016 | Star Wars Rogue One\n",
              "2384195                                                                                                                             PLAYBOY MAGAZINE JULY/AUGUST 2016                                                                                                                                                                                                                                                                                                                                              this product was never view, only taken out of plastic cover.\n",
              "2384196                                                                                                                        Air &amp; Space SMITHSONIAN Spy Planes                                                                                                                                                                                                                                                                                                                                               Pilots and Drones flying the world's most dangerous missions\n",
              "\n",
              "[2384197 rows x 2 columns]"
            ],
            "text/html": [
              "<div>\n",
              "<style scoped>\n",
              "    .dataframe tbody tr th:only-of-type {\n",
              "        vertical-align: middle;\n",
              "    }\n",
              "\n",
              "    .dataframe tbody tr th {\n",
              "        vertical-align: top;\n",
              "    }\n",
              "\n",
              "    .dataframe thead th {\n",
              "        text-align: right;\n",
              "    }\n",
              "</style>\n",
              "<table border=\"1\" class=\"dataframe\">\n",
              "  <thead>\n",
              "    <tr style=\"text-align: right;\">\n",
              "      <th></th>\n",
              "      <th>title</th>\n",
              "      <th>description</th>\n",
              "    </tr>\n",
              "  </thead>\n",
              "  <tbody>\n",
              "    <tr>\n",
              "      <th>0</th>\n",
              "      <td>Biology Gods Living Creation Third Edition 10 (A Beka Book Science Series)</td>\n",
              "      <td>It is a biology book with God&amp;apos;s perspective.</td>\n",
              "    </tr>\n",
              "    <tr>\n",
              "      <th>1</th>\n",
              "      <td>Flex! Discography of North American Punk, Hardcore, and Powerpop 1975-1985 A-M</td>\n",
              "      <td>Discography of American Punk, Hardcore, and Power Pop</td>\n",
              "    </tr>\n",
              "    <tr>\n",
              "      <th>2</th>\n",
              "      <td>Heavenly Highway Hymns: Shaped-Note Hymnal</td>\n",
              "      <td>This is a collection of classic gospel hymns that many churches still enjoy singing today.</td>\n",
              "    </tr>\n",
              "    <tr>\n",
              "      <th>3</th>\n",
              "      <td>Principles of Analgesic Use in the Treatment of Acute Pain and Cancer Pain (APS, Principles of Analgesic Use in the Treatment of Acute Pain and Cancer Pain)</td>\n",
              "      <td>Brand new; never used.</td>\n",
              "    </tr>\n",
              "    <tr>\n",
              "      <th>4</th>\n",
              "      <td>MKSAP 15 Audio Companion</td>\n",
              "      <td>Flash cards used with accompany MKSAP 15 audio companion. \\nExtremely useful for board exam.</td>\n",
              "    </tr>\n",
              "    <tr>\n",
              "      <th>...</th>\n",
              "      <td>...</td>\n",
              "      <td>...</td>\n",
              "    </tr>\n",
              "    <tr>\n",
              "      <th>2384192</th>\n",
              "      <td>The Walking Dead The Official Magazine Issue # 17 Newsstand Cover</td>\n",
              "      <td>The OFFICIAL THE WALKING DEAD MAGAZINE #17. 100 PAGE ISSUE!!! Feature Interviews with Cast and Crew plus TONS MORE Loaded with Full Color Photos front to back.Comes with a special insert called The Walking Dead Collector's Models.</td>\n",
              "    </tr>\n",
              "    <tr>\n",
              "      <th>2384193</th>\n",
              "      <td>Busoni : Konzertstuck fur Klavier mit Orchester</td>\n",
              "      <td>Busoni, Ferruccio : Konzertstck fr Klavier mit Orchester. Op. 31a. Fr zwei Klaviere zu vier Hnden. (2. Klavier an Stelle des Orchesters). Piano Music - 2-Piano Scores This is an Eastman Scores Publishing professional reprint of the work originally published by: Breitkopf &amp; Hartel, Leipzig, 1892, 2 scores, 38 pp. Sheet Music Eastman Scores Publishing Library Commerce ISMN : 979-0-087-00129-8</td>\n",
              "    </tr>\n",
              "    <tr>\n",
              "      <th>2384194</th>\n",
              "      <td>Entertainment Weekly Magazine July 1 2016 | Star Wars Rogue One</td>\n",
              "      <td>New Entertainment Weekly Magazine July 1 2016 | Star Wars Rogue One</td>\n",
              "    </tr>\n",
              "    <tr>\n",
              "      <th>2384195</th>\n",
              "      <td>PLAYBOY MAGAZINE JULY/AUGUST 2016</td>\n",
              "      <td>this product was never view, only taken out of plastic cover.</td>\n",
              "    </tr>\n",
              "    <tr>\n",
              "      <th>2384196</th>\n",
              "      <td>Air &amp;amp; Space SMITHSONIAN Spy Planes</td>\n",
              "      <td>Pilots and Drones flying the world's most dangerous missions</td>\n",
              "    </tr>\n",
              "  </tbody>\n",
              "</table>\n",
              "<p>2384197 rows × 2 columns</p>\n",
              "</div>"
            ]
          },
          "metadata": {
            "tags": []
          },
          "execution_count": 17
        }
      ],
      "metadata": {
        "colab": {
          "base_uri": "https://localhost:8080/",
          "height": 551
        },
        "id": "2agtqqeP6k-p",
        "outputId": "6bf49f3a-146b-4e01-8904-c618ffd8d356"
      }
    },
    {
      "cell_type": "code",
      "execution_count": null,
      "source": [
        "print(df.isna().sum())\r\n",
        "df[df['description'].isna()]"
      ],
      "outputs": [
        {
          "output_type": "stream",
          "name": "stdout",
          "text": [
            "title               0\n",
            "description    550752\n",
            "dtype: int64\n"
          ]
        },
        {
          "output_type": "execute_result",
          "data": {
            "text/plain": [
              "                                                                                                                                                                                                           title description\n",
              "1                                                                                                                                            Mksap 16 Audio Companion: Medical Knowledge Self-Assessment Program         NaN\n",
              "4                                                                                                                                   Georgina Goodman Nelson Womens Size 8.5 Purple Regular Suede Platforms Shoes         NaN\n",
              "9                                                                                                                                                           LJ Classique Interchangeable Ladies Gift Set Watches         NaN\n",
              "10                                                                                                                                                                     Classic Soul Winner's New Testament Bible         NaN\n",
              "13                                                                                                                               The New England Historical and Genealogical Register, Vol 155, April 2001 (618)         NaN\n",
              "...                                                                                                                                                                                                          ...         ...\n",
              "2934944                                                                                                                                        Made Men: A Thriller (Law of Retaliation Book 2) - Kindle edition         NaN\n",
              "2934945                                                                                                                                         Raptor&#39;s Desire (A Planet Desire novelette) - Kindle edition         NaN\n",
              "2934946  LG K4 Case,LG Optimus Zone 3 Case,LG Spree Case,LG Rebel LTE Case,Veggzy[Kickstand]Slim Heavy Duty Shock Absorption Rugged Armor Dual Layer Hybird High Impact Resistant Defender Protective Hard Cover         NaN\n",
              "2934947                                                                                                                                                                                    Magickal Incantations         NaN\n",
              "2934948                                                                                                                                                  White Away EURO 2016 Match Football Soccer Adult Jersey         NaN\n",
              "\n",
              "[550752 rows x 2 columns]"
            ],
            "text/html": [
              "<div>\n",
              "<style scoped>\n",
              "    .dataframe tbody tr th:only-of-type {\n",
              "        vertical-align: middle;\n",
              "    }\n",
              "\n",
              "    .dataframe tbody tr th {\n",
              "        vertical-align: top;\n",
              "    }\n",
              "\n",
              "    .dataframe thead th {\n",
              "        text-align: right;\n",
              "    }\n",
              "</style>\n",
              "<table border=\"1\" class=\"dataframe\">\n",
              "  <thead>\n",
              "    <tr style=\"text-align: right;\">\n",
              "      <th></th>\n",
              "      <th>title</th>\n",
              "      <th>description</th>\n",
              "    </tr>\n",
              "  </thead>\n",
              "  <tbody>\n",
              "    <tr>\n",
              "      <th>1</th>\n",
              "      <td>Mksap 16 Audio Companion: Medical Knowledge Self-Assessment Program</td>\n",
              "      <td>NaN</td>\n",
              "    </tr>\n",
              "    <tr>\n",
              "      <th>4</th>\n",
              "      <td>Georgina Goodman Nelson Womens Size 8.5 Purple Regular Suede Platforms Shoes</td>\n",
              "      <td>NaN</td>\n",
              "    </tr>\n",
              "    <tr>\n",
              "      <th>9</th>\n",
              "      <td>LJ Classique Interchangeable Ladies Gift Set Watches</td>\n",
              "      <td>NaN</td>\n",
              "    </tr>\n",
              "    <tr>\n",
              "      <th>10</th>\n",
              "      <td>Classic Soul Winner's New Testament Bible</td>\n",
              "      <td>NaN</td>\n",
              "    </tr>\n",
              "    <tr>\n",
              "      <th>13</th>\n",
              "      <td>The New England Historical and Genealogical Register, Vol 155, April 2001 (618)</td>\n",
              "      <td>NaN</td>\n",
              "    </tr>\n",
              "    <tr>\n",
              "      <th>...</th>\n",
              "      <td>...</td>\n",
              "      <td>...</td>\n",
              "    </tr>\n",
              "    <tr>\n",
              "      <th>2934944</th>\n",
              "      <td>Made Men: A Thriller (Law of Retaliation Book 2) - Kindle edition</td>\n",
              "      <td>NaN</td>\n",
              "    </tr>\n",
              "    <tr>\n",
              "      <th>2934945</th>\n",
              "      <td>Raptor&amp;#39;s Desire (A Planet Desire novelette) - Kindle edition</td>\n",
              "      <td>NaN</td>\n",
              "    </tr>\n",
              "    <tr>\n",
              "      <th>2934946</th>\n",
              "      <td>LG K4 Case,LG Optimus Zone 3 Case,LG Spree Case,LG Rebel LTE Case,Veggzy[Kickstand]Slim Heavy Duty Shock Absorption Rugged Armor Dual Layer Hybird High Impact Resistant Defender Protective Hard Cover</td>\n",
              "      <td>NaN</td>\n",
              "    </tr>\n",
              "    <tr>\n",
              "      <th>2934947</th>\n",
              "      <td>Magickal Incantations</td>\n",
              "      <td>NaN</td>\n",
              "    </tr>\n",
              "    <tr>\n",
              "      <th>2934948</th>\n",
              "      <td>White Away EURO 2016 Match Football Soccer Adult Jersey</td>\n",
              "      <td>NaN</td>\n",
              "    </tr>\n",
              "  </tbody>\n",
              "</table>\n",
              "<p>550752 rows × 2 columns</p>\n",
              "</div>"
            ]
          },
          "metadata": {
            "tags": []
          },
          "execution_count": 7
        }
      ],
      "metadata": {
        "id": "Kx9xlNKK70rd",
        "colab": {
          "base_uri": "https://localhost:8080/",
          "height": 484
        },
        "outputId": "d2eca199-89a0-4e76-8a34-893933469651"
      }
    },
    {
      "cell_type": "code",
      "execution_count": null,
      "source": [
        "df.dropna(inplace=True)\r\n",
        "df.reset_index(drop=True, inplace=True)\r\n",
        "df"
      ],
      "outputs": [
        {
          "output_type": "execute_result",
          "data": {
            "text/plain": [
              "                                                                                                                                                                title                                                                                                                                                                                                                                                                                                                                                                                                description\n",
              "0                                                                                          Biology Gods Living Creation Third Edition 10 (A Beka Book Science Series)                                                                                                                                                                                                                                                                                                                                                          It is a biology book with God&apos;s perspective.\n",
              "1                                                                                      Flex! Discography of North American Punk, Hardcore, and Powerpop 1975-1985 A-M                                                                                                                                                                                                                                                                                                                                                      Discography of American Punk, Hardcore, and Power Pop\n",
              "2                                                                                                                          Heavenly Highway Hymns: Shaped-Note Hymnal                                                                                                                                                                                                                                                                                                                 This is a collection of classic gospel hymns that many churches still enjoy singing today.\n",
              "3        Principles of Analgesic Use in the Treatment of Acute Pain and Cancer Pain (APS, Principles of Analgesic Use in the Treatment of Acute Pain and Cancer Pain)                                                                                                                                                                                                                                                                                                                                                                                     Brand new; never used.\n",
              "4                                                                                                                                            MKSAP 15 Audio Companion                                                                                                                                                                                                                                                                                                               Flash cards used with accompany MKSAP 15 audio companion. \\nExtremely useful for board exam.\n",
              "...                                                                                                                                                               ...                                                                                                                                                                                                                                                                                                                                                                                                        ...\n",
              "2384192                                                                                             The Walking Dead The Official Magazine Issue # 17 Newsstand Cover                                                                                                                                                                     The OFFICIAL THE WALKING DEAD MAGAZINE #17. 100 PAGE ISSUE!!! Feature Interviews with Cast and Crew plus TONS MORE Loaded with Full Color Photos front to back.Comes with a special insert called The Walking Dead Collector's Models.\n",
              "2384193                                                                                                               Busoni : Konzertstuck fur Klavier mit Orchester  Busoni, Ferruccio : Konzertstck fr Klavier mit Orchester. Op. 31a. Fr zwei Klaviere zu vier Hnden. (2. Klavier an Stelle des Orchesters). Piano Music - 2-Piano Scores This is an Eastman Scores Publishing professional reprint of the work originally published by: Breitkopf & Hartel, Leipzig, 1892, 2 scores, 38 pp. Sheet Music Eastman Scores Publishing Library Commerce ISMN : 979-0-087-00129-8\n",
              "2384194                                                                                               Entertainment Weekly Magazine July 1 2016 | Star Wars Rogue One                                                                                                                                                                                                                                                                                                                                        New Entertainment Weekly Magazine July 1 2016 | Star Wars Rogue One\n",
              "2384195                                                                                                                             PLAYBOY MAGAZINE JULY/AUGUST 2016                                                                                                                                                                                                                                                                                                                                              this product was never view, only taken out of plastic cover.\n",
              "2384196                                                                                                                        Air &amp; Space SMITHSONIAN Spy Planes                                                                                                                                                                                                                                                                                                                                               Pilots and Drones flying the world's most dangerous missions\n",
              "\n",
              "[2384197 rows x 2 columns]"
            ],
            "text/html": [
              "<div>\n",
              "<style scoped>\n",
              "    .dataframe tbody tr th:only-of-type {\n",
              "        vertical-align: middle;\n",
              "    }\n",
              "\n",
              "    .dataframe tbody tr th {\n",
              "        vertical-align: top;\n",
              "    }\n",
              "\n",
              "    .dataframe thead th {\n",
              "        text-align: right;\n",
              "    }\n",
              "</style>\n",
              "<table border=\"1\" class=\"dataframe\">\n",
              "  <thead>\n",
              "    <tr style=\"text-align: right;\">\n",
              "      <th></th>\n",
              "      <th>title</th>\n",
              "      <th>description</th>\n",
              "    </tr>\n",
              "  </thead>\n",
              "  <tbody>\n",
              "    <tr>\n",
              "      <th>0</th>\n",
              "      <td>Biology Gods Living Creation Third Edition 10 (A Beka Book Science Series)</td>\n",
              "      <td>It is a biology book with God&amp;apos;s perspective.</td>\n",
              "    </tr>\n",
              "    <tr>\n",
              "      <th>1</th>\n",
              "      <td>Flex! Discography of North American Punk, Hardcore, and Powerpop 1975-1985 A-M</td>\n",
              "      <td>Discography of American Punk, Hardcore, and Power Pop</td>\n",
              "    </tr>\n",
              "    <tr>\n",
              "      <th>2</th>\n",
              "      <td>Heavenly Highway Hymns: Shaped-Note Hymnal</td>\n",
              "      <td>This is a collection of classic gospel hymns that many churches still enjoy singing today.</td>\n",
              "    </tr>\n",
              "    <tr>\n",
              "      <th>3</th>\n",
              "      <td>Principles of Analgesic Use in the Treatment of Acute Pain and Cancer Pain (APS, Principles of Analgesic Use in the Treatment of Acute Pain and Cancer Pain)</td>\n",
              "      <td>Brand new; never used.</td>\n",
              "    </tr>\n",
              "    <tr>\n",
              "      <th>4</th>\n",
              "      <td>MKSAP 15 Audio Companion</td>\n",
              "      <td>Flash cards used with accompany MKSAP 15 audio companion. \\nExtremely useful for board exam.</td>\n",
              "    </tr>\n",
              "    <tr>\n",
              "      <th>...</th>\n",
              "      <td>...</td>\n",
              "      <td>...</td>\n",
              "    </tr>\n",
              "    <tr>\n",
              "      <th>2384192</th>\n",
              "      <td>The Walking Dead The Official Magazine Issue # 17 Newsstand Cover</td>\n",
              "      <td>The OFFICIAL THE WALKING DEAD MAGAZINE #17. 100 PAGE ISSUE!!! Feature Interviews with Cast and Crew plus TONS MORE Loaded with Full Color Photos front to back.Comes with a special insert called The Walking Dead Collector's Models.</td>\n",
              "    </tr>\n",
              "    <tr>\n",
              "      <th>2384193</th>\n",
              "      <td>Busoni : Konzertstuck fur Klavier mit Orchester</td>\n",
              "      <td>Busoni, Ferruccio : Konzertstck fr Klavier mit Orchester. Op. 31a. Fr zwei Klaviere zu vier Hnden. (2. Klavier an Stelle des Orchesters). Piano Music - 2-Piano Scores This is an Eastman Scores Publishing professional reprint of the work originally published by: Breitkopf &amp; Hartel, Leipzig, 1892, 2 scores, 38 pp. Sheet Music Eastman Scores Publishing Library Commerce ISMN : 979-0-087-00129-8</td>\n",
              "    </tr>\n",
              "    <tr>\n",
              "      <th>2384194</th>\n",
              "      <td>Entertainment Weekly Magazine July 1 2016 | Star Wars Rogue One</td>\n",
              "      <td>New Entertainment Weekly Magazine July 1 2016 | Star Wars Rogue One</td>\n",
              "    </tr>\n",
              "    <tr>\n",
              "      <th>2384195</th>\n",
              "      <td>PLAYBOY MAGAZINE JULY/AUGUST 2016</td>\n",
              "      <td>this product was never view, only taken out of plastic cover.</td>\n",
              "    </tr>\n",
              "    <tr>\n",
              "      <th>2384196</th>\n",
              "      <td>Air &amp;amp; Space SMITHSONIAN Spy Planes</td>\n",
              "      <td>Pilots and Drones flying the world's most dangerous missions</td>\n",
              "    </tr>\n",
              "  </tbody>\n",
              "</table>\n",
              "<p>2384197 rows × 2 columns</p>\n",
              "</div>"
            ]
          },
          "metadata": {
            "tags": []
          },
          "execution_count": 8
        }
      ],
      "metadata": {
        "id": "WFvv7EcTr0cM",
        "colab": {
          "base_uri": "https://localhost:8080/",
          "height": 551
        },
        "outputId": "1ba51cf1-577a-4843-c5c9-b9a9366ce0a3"
      }
    },
    {
      "cell_type": "markdown",
      "source": [
        "# Fine-tune Language Model"
      ],
      "metadata": {
        "id": "DThgjIKKfact"
      }
    },
    {
      "cell_type": "markdown",
      "source": [
        "## Create DataLoaders and Learner"
      ],
      "metadata": {
        "id": "vn1Hy96egTBW"
      }
    },
    {
      "cell_type": "code",
      "execution_count": null,
      "source": [
        "rand_num_gen = np.random.default_rng(42)\r\n",
        "random_indices = rand_num_gen.integers(0, len(df), size=400_000)\r\n",
        "sampled_df = df.iloc[list(set(random_indices))]"
      ],
      "outputs": [],
      "metadata": {
        "id": "EaEyAYrXRYz1"
      }
    },
    {
      "cell_type": "code",
      "execution_count": null,
      "source": [
        "dls = TextDataLoaders.from_df(sampled_df, text_col=1, is_lm=True)\r\n",
        "dls.show_batch(max_n=3)"
      ],
      "outputs": [
        {
          "output_type": "display_data",
          "data": {
            "text/plain": [
              "<IPython.core.display.HTML object>"
            ],
            "text/html": []
          },
          "metadata": {
            "tags": []
          }
        },
        {
          "output_type": "stream",
          "name": "stderr",
          "text": [
            "/usr/local/lib/python3.7/dist-packages/numpy/core/_asarray.py:83: VisibleDeprecationWarning: Creating an ndarray from ragged nested sequences (which is a list-or-tuple of lists-or-tuples-or ndarrays with different lengths or shapes) is deprecated. If you meant to do this, you must specify 'dtype=object' when creating the ndarray\n",
            "  return array(a, dtype, copy=False, order=order)\n"
          ]
        },
        {
          "output_type": "display_data",
          "data": {
            "text/plain": [
              "<IPython.core.display.HTML object>"
            ],
            "text/html": [
              "<table border=\"1\" class=\"dataframe\">\n",
              "  <thead>\n",
              "    <tr style=\"text-align: right;\">\n",
              "      <th></th>\n",
              "      <th>text</th>\n",
              "      <th>text_</th>\n",
              "    </tr>\n",
              "  </thead>\n",
              "  <tbody>\n",
              "    <tr>\n",
              "      <th>0</th>\n",
              "      <td>xxbos &lt; span&gt;&lt;span &gt; xxunk 's poignant book delivers the fullest account yet of xxmaj bobby xxmaj fischer 's triumphal and tragic years in xxmaj iceland with a thoughtful , thorough , and balanced presentation , including topics that transport us beyond the limits of its place and theme . a personal and heartbreaking account . \\n &lt; / span &gt; &lt; / span &gt; ( john xxup d. xxmaj xxunk ,</td>\n",
              "      <td>&lt; span&gt;&lt;span &gt; xxunk 's poignant book delivers the fullest account yet of xxmaj bobby xxmaj fischer 's triumphal and tragic years in xxmaj iceland with a thoughtful , thorough , and balanced presentation , including topics that transport us beyond the limits of its place and theme . a personal and heartbreaking account . \\n &lt; / span &gt; &lt; / span &gt; ( john xxup d. xxmaj xxunk , xxmaj</td>\n",
              "    </tr>\n",
              "    <tr>\n",
              "      <th>1</th>\n",
              "      <td>joukhadar ’s intoxicating debut , the past and present are brought to life , illuminating how , in exile , neither can exist without the other . xxmaj with clear , exquisite prose , xxmaj joukhadar unspools a brightly imagined tale of family and grief , mapmaking and migration . xxmaj this important book is a love letter to the vanished — and to what remains . ” ( xxunk xxmaj xxunk</td>\n",
              "      <td>’s intoxicating debut , the past and present are brought to life , illuminating how , in exile , neither can exist without the other . xxmaj with clear , exquisite prose , xxmaj joukhadar unspools a brightly imagined tale of family and grief , mapmaking and migration . xxmaj this important book is a love letter to the vanished — and to what remains . ” ( xxunk xxmaj xxunk ,</td>\n",
              "    </tr>\n",
              "    <tr>\n",
              "      <th>2</th>\n",
              "      <td>as it depicts the plants and animals simply referred to as \" someone \" or \" something . \" xxmaj the humorous creatures busily interpret the words and images in an entertaining manner . xxmaj useful for early poetry study or read - aloud xxunk mcgrath , xxmaj clearwater xxmaj public xxmaj library , xxup fl \\n xxmaj copyright 1997 xxmaj reed xxmaj business xxmaj information , xxmaj inc . xxbos xxup</td>\n",
              "      <td>it depicts the plants and animals simply referred to as \" someone \" or \" something . \" xxmaj the humorous creatures busily interpret the words and images in an entertaining manner . xxmaj useful for early poetry study or read - aloud xxunk mcgrath , xxmaj clearwater xxmaj public xxmaj library , xxup fl \\n xxmaj copyright 1997 xxmaj reed xxmaj business xxmaj information , xxmaj inc . xxbos xxup about</td>\n",
              "    </tr>\n",
              "  </tbody>\n",
              "</table>"
            ]
          },
          "metadata": {
            "tags": []
          }
        }
      ],
      "metadata": {
        "id": "oK4H9IEN4IT4",
        "colab": {
          "base_uri": "https://localhost:8080/",
          "height": 346
        },
        "outputId": "3067b560-bd19-4302-b304-014c42cd49dd"
      }
    },
    {
      "cell_type": "code",
      "execution_count": null,
      "source": [
        "learn = language_model_learner(dls, AWD_LSTM, drop_mult=0.3, metrics=[accuracy, Perplexity()]).to_fp16()"
      ],
      "outputs": [
        {
          "output_type": "stream",
          "name": "stderr",
          "text": [
            "/usr/local/lib/python3.7/dist-packages/torch/cuda/amp/autocast_mode.py:120: UserWarning: torch.cuda.amp.autocast only affects CUDA ops, but CUDA is not available.  Disabling.\n",
            "  warnings.warn(\"torch.cuda.amp.autocast only affects CUDA ops, but CUDA is not available.  Disabling.\")\n"
          ]
        }
      ],
      "metadata": {
        "id": "XMYKDEvWLRnL",
        "colab": {
          "base_uri": "https://localhost:8080/"
        },
        "outputId": "3b93ed7b-bc76-46e1-8a3c-f079ed54bbc6"
      }
    },
    {
      "cell_type": "code",
      "execution_count": null,
      "source": [
        "learn.fit_one_cycle(1, 2e-2)"
      ],
      "outputs": [],
      "metadata": {
        "id": "dMcpPQpyL6c3"
      }
    },
    {
      "cell_type": "code",
      "execution_count": null,
      "source": [
        "learn.unfreeze()\r\n",
        "learn.fit_one_cycle(1, 2e-3)"
      ],
      "outputs": [],
      "metadata": {
        "id": "6RIpQsPGPNXX"
      }
    },
    {
      "cell_type": "markdown",
      "source": [
        "## Test tokenizer and numericalization"
      ],
      "metadata": {
        "id": "Hw2OginzhXRy"
      }
    },
    {
      "cell_type": "code",
      "execution_count": null,
      "source": [
        "row = df.iloc[0]['description']"
      ],
      "outputs": [],
      "metadata": {
        "id": "7Wh8kqblHNfi"
      }
    },
    {
      "cell_type": "code",
      "execution_count": null,
      "source": [
        "a = dls.tokenizer(row3)\r\n",
        "a_n = dls.numericalize(a)"
      ],
      "outputs": [],
      "metadata": {
        "id": "r7R1me5A3IMK"
      }
    },
    {
      "cell_type": "markdown",
      "source": [
        "# Get embeddings for all the book descriptions "
      ],
      "metadata": {
        "id": "EXpiKRTHheJV"
      }
    },
    {
      "cell_type": "code",
      "execution_count": null,
      "source": [
        "# Super slow\r\n",
        "# learn.model.eval()\r\n",
        "# embds = np.empty((len(df), 400))\r\n",
        "# i = 0\r\n",
        "\r\n",
        "# for description in df['description']:\r\n",
        "#   learn.model.reset()\r\n",
        "#   num_description = get_tokenized_description(dls, description)\r\n",
        "#   embeddings = learn.model[0](num_description[None])[0]\r\n",
        "#   mean_embeddings = embeddings.mean(0)\r\n",
        "#   embds[i,:] = mean_embeddings.cpu().data.numpy()\r\n",
        "#   i += 1\r\n",
        "#   print(i)"
      ],
      "outputs": [],
      "metadata": {
        "id": "7xnH04ckPU0m"
      }
    },
    {
      "cell_type": "code",
      "execution_count": null,
      "source": [
        "def get_numericalized_description(dls, sentences):\r\n",
        "  num_sentences = []\r\n",
        "  lengths = []\r\n",
        "  for sentence in sentences:\r\n",
        "    tok_description = dls.tokenizer(sentence)\r\n",
        "    num_description = dls.numericalize(tok_description)\r\n",
        "    num_sentences.append(num_description)\r\n",
        "    lengths.append(len(num_description))\r\n",
        "  return num_sentences, max(lengths)"
      ],
      "outputs": [],
      "metadata": {
        "id": "VZJ-IAZQIDPu"
      }
    },
    {
      "cell_type": "code",
      "execution_count": null,
      "source": [
        "def batch_to_device(batch, target_device):\r\n",
        "    \"\"\"\r\n",
        "    send a pytorch batch to a device (CPU/GPU)\r\n",
        "    \"\"\"\r\n",
        "    for element in batch:\r\n",
        "        if isinstance(element, Tensor):\r\n",
        "            element = element.to(target_device)\r\n",
        "    return batch"
      ],
      "outputs": [],
      "metadata": {
        "id": "cuOgWWxHL2cL"
      }
    },
    {
      "cell_type": "code",
      "execution_count": null,
      "source": [
        "def pad_to_max_length(batch, max_length):\r\n",
        "  tensors = []\r\n",
        "  for tensor in batch:\r\n",
        "    tensor = torch.nn.functional.pad(tensor, (0, max_length-len(tensor)), value=1)\r\n",
        "    tensors.append(tensor)\r\n",
        "  return tensors"
      ],
      "outputs": [],
      "metadata": {
        "id": "B84x1_bXbIdl"
      }
    },
    {
      "cell_type": "code",
      "execution_count": null,
      "source": [
        "learn.model.eval()\r\n",
        "embds = np.empty((len(df), 400))\r\n",
        "\r\n",
        "def get_numpy_embeddings(df, model, dls, batch_size=32, device='cuda'):\r\n",
        "  for start_index in trange(0, len(df), batch_size):\r\n",
        "    if (start_index + batch_size) < len(df):\r\n",
        "      sentences_batch = df['description'][start_index:start_index+batch_size]\r\n",
        "    else:\r\n",
        "      sentences_batch = df['description'][start_index:]\r\n",
        "    features, max_length = get_numericalized_description(dls, sentences_batch)\r\n",
        "    features = batch_to_device(features, device)\r\n",
        "    features = pad_to_max_length(features, max_length)\r\n",
        "    features = torch.stack(features)\r\n",
        "    model.reset()\r\n",
        "    embeddings = model[0](features)\r\n",
        "    mean_embeddings = embeddings.mean(1)\r\n",
        "    if (start_index + batch_size) < len(df):\r\n",
        "      embds[start_index:start_index+batch_size,:] = mean_embeddings.cpu().data.numpy()\r\n",
        "    else:\r\n",
        "      sentences_batch = df['description'][start_index:]\r\n",
        "      embds[start_index:,:] = mean_embeddings.cpu().data.numpy()"
      ],
      "outputs": [],
      "metadata": {
        "id": "YMun1xvLKvFE"
      }
    },
    {
      "cell_type": "code",
      "execution_count": null,
      "source": [
        "learn.model.eval()\n",
        "\n",
        "def get_numpy_embeddings(df, model, dls, batch_size=32, device='cuda'):\n",
        "    embds = np.empty((len(df), 400))\n",
        "    for start_index in trange(0, len(df), batch_size):\n",
        "        if (start_index + batch_size) < len(df):\n",
        "            sentences_batch = df['description'][start_index:start_index+batch_size]\n",
        "        else:\n",
        "            sentences_batch = df['description'][start_index:]\n",
        "        features, max_length = get_numericalized_description(dls, sentences_batch)\n",
        "        features = batch_to_device(features, device)\n",
        "        features = pad_to_max_length(features, max_length)\n",
        "        features = torch.stack(features)\n",
        "        model.reset()\n",
        "        embeddings = model[0](features)\n",
        "        mean_embeddings = embeddings.mean(1)\n",
        "        if (start_index + batch_size) < len(df):\n",
        "            embds[start_index:start_index+batch_size,:] = mean_embeddings.cpu().data.numpy()\n",
        "        else:\n",
        "            embds[start_index:,:] = mean_embeddings.cpu().data.numpy()\n",
        "    return embds"
      ],
      "outputs": [],
      "metadata": {
        "id": "fAaLXaPWqiT_"
      }
    },
    {
      "cell_type": "code",
      "execution_count": null,
      "source": [
        "embds = get_numpy_embeddings(df[:2_600_000], learn.model, dls, batch_size=50, device='cpu')"
      ],
      "outputs": [
        {
          "output_type": "display_data",
          "data": {
            "text/plain": [
              "HBox(children=(FloatProgress(value=0.0, max=47684.0), HTML(value='')))"
            ],
            "application/vnd.jupyter.widget-view+json": {
              "model_id": "736bb7c4d2524ec69e3315ad7ae663c2",
              "version_minor": 0,
              "version_major": 2
            }
          },
          "metadata": {
            "tags": []
          }
        }
      ],
      "metadata": {
        "colab": {
          "base_uri": "https://localhost:8080/",
          "height": 49,
          "referenced_widgets": [
            "736bb7c4d2524ec69e3315ad7ae663c2",
            "adf5d6b91bb24a4f9f3f43236d82d114",
            "fa9be7eb467c4458b32e93caa48618e4",
            "7fecb5014d8d4f64860e7b6aba2d866c",
            "88a2234722c549309379ba55c368de1b",
            "2c5c27144ef644618931423c810b34f5",
            "a4530a36388242a0b344c3d041a69951",
            "9953a904b46b4796ad7e86c5c42708bc"
          ]
        },
        "id": "LQ-_ZSavqx7C",
        "outputId": "30a53e66-dfaa-491d-9298-854fd2c7a105"
      }
    },
    {
      "cell_type": "code",
      "execution_count": null,
      "source": [
        "learn.model[0](a_n[None]).shape"
      ],
      "outputs": [
        {
          "output_type": "execute_result",
          "data": {
            "text/plain": [
              "torch.Size([1, 250, 400])"
            ]
          },
          "metadata": {
            "tags": []
          },
          "execution_count": 288
        }
      ],
      "metadata": {
        "colab": {
          "base_uri": "https://localhost:8080/"
        },
        "id": "1gkUEoOtzT1q",
        "outputId": "fc188ffc-ffe3-43c1-b523-13eec4b47121"
      }
    },
    {
      "cell_type": "markdown",
      "source": [
        "# Save components for the application"
      ],
      "metadata": {
        "id": "hlcZeFDziBA-"
      }
    },
    {
      "cell_type": "code",
      "execution_count": null,
      "source": [
        "torch.save(learn, 'fastai_learner.pt')"
      ],
      "outputs": [
        {
          "output_type": "execute_result",
          "data": {
            "text/plain": [
              "Path('models/test_model.pth')"
            ]
          },
          "metadata": {
            "tags": []
          },
          "execution_count": 18
        }
      ],
      "metadata": {
        "colab": {
          "base_uri": "https://localhost:8080/"
        },
        "id": "hu83lBUjJjII",
        "outputId": "6195eccc-bfbd-48ff-b93e-9a499aefd5e7"
      }
    },
    {
      "cell_type": "code",
      "execution_count": null,
      "source": [
        "torch.save(learn.model[0], 'fastai_model.pt')"
      ],
      "outputs": [],
      "metadata": {
        "id": "DRsuwUmuj185"
      }
    },
    {
      "cell_type": "code",
      "execution_count": null,
      "source": [
        "torch.save(dls.tokenizer, 'fastai_tokenizer.pt')"
      ],
      "outputs": [],
      "metadata": {
        "id": "QgpWvX9jRltm"
      }
    },
    {
      "cell_type": "code",
      "execution_count": null,
      "source": [
        "torch.save(dls.numericalize, 'fastai_numericalize.pt')"
      ],
      "outputs": [],
      "metadata": {
        "id": "v8Uq9_CzRZNA"
      }
    },
    {
      "cell_type": "code",
      "execution_count": null,
      "source": [
        "np.save('fastai_embeddings', embds)"
      ],
      "outputs": [],
      "metadata": {
        "id": "zGkSjf5wjkOL"
      }
    },
    {
      "cell_type": "markdown",
      "source": [
        "# Test API endpoint"
      ],
      "metadata": {
        "id": "p99xr59mh2m8"
      }
    },
    {
      "cell_type": "code",
      "execution_count": null,
      "source": [
        "import requests\n",
        "import json\n",
        "import pandas as pd\n",
        "input_json = json.dumps({\"search_string\": \"learn numbers\", \"ID\": \"111\"})\n",
        "# Call the endpoint\n",
        "endpoint = 'http://50a9efd4-bbc1-4e53-b376-f44aac367846.southcentralus.azurecontainer.io/score'\n",
        "headers = { 'Content-Type':'application/json'} #prod wrap\n",
        "resp = requests.post(endpoint, input_json, headers=headers)\n",
        "print(resp)\n",
        "results = resp.text\n",
        "print(results)\n",
        "data = json.loads(results)\n",
        "df = pd.read_json(data['response'])\n",
        "print(df)"
      ],
      "outputs": [
        {
          "output_type": "stream",
          "name": "stdout",
          "text": [
            "<Response [200]>\n",
            "{\"search_string\": \"learn numbers\", \"ID\": \"111\", \"response\": \"{\\\"title\\\":{\\\"2606545\\\":\\\"Theory of Numbers.\\\",\\\"2611470\\\":\\\"Theory of Numbers.\\\",\\\"8259\\\":\\\"Virginia Math Connects Homework and Problem-Solving Practice Workshop Grade 3\\\",\\\"280055\\\":\\\"Mathematics: The Path to Math Success! (Teacher Guide) Grade 5, Volume 2\\\",\\\"110499\\\":\\\"Harcourt Horizons Texas &amp; Student Edition, Grade 4 (Harcourt School Publishers Horizons)\\\",\\\"640839\\\":\\\"Steck-Vaughn Working With Numbers: Algebra\\\",\\\"611577\\\":\\\"Mental Arithmetic 1 (Bk. 1)\\\",\\\"725808\\\":\\\"Nimble With Numbers, Grades 5 &amp; 6\\\",\\\"713877\\\":\\\"Excel Charts For Dummies\\\",\\\"2616777\\\":\\\"Dialogues on mathematics\\\"},\\\"description\\\":{\\\"2606545\\\":\\\"Theory of Numbers.\\\",\\\"2611470\\\":\\\"Theory of Numbers.\\\",\\\"8259\\\":\\\"Math\\\",\\\"280055\\\":\\\"math\\\",\\\"110499\\\":\\\"Math\\\",\\\"640839\\\":\\\"ALGEBRA WORKING WITH NUMBERS\\\",\\\"611577\\\":\\\"Mental Arithmetic Book 1\\\",\\\"725808\\\":\\\"numbers\\\",\\\"713877\\\":\\\"Develop charts that help you explain the numbers\\\",\\\"2616777\\\":\\\"mathmatics\\\"},\\\"scores\\\":{\\\"2606545\\\":0.7735768557,\\\"2611470\\\":0.7735768557,\\\"8259\\\":0.7483110428,\\\"280055\\\":0.7483110428,\\\"110499\\\":0.7483110428,\\\"640839\\\":0.7374113798,\\\"611577\\\":0.7304675579,\\\"725808\\\":0.7288731337,\\\"713877\\\":0.7230573893,\\\"2616777\\\":0.718236506}}\"}\n",
            "                                                                                                title  ...    scores\n",
            "2606545                                                                            Theory of Numbers.  ...  0.773577\n",
            "2611470                                                                            Theory of Numbers.  ...  0.773577\n",
            "8259                    Virginia Math Connects Homework and Problem-Solving Practice Workshop Grade 3  ...  0.748311\n",
            "280055                       Mathematics: The Path to Math Success! (Teacher Guide) Grade 5, Volume 2  ...  0.748311\n",
            "110499   Harcourt Horizons Texas &amp; Student Edition, Grade 4 (Harcourt School Publishers Horizons)  ...  0.748311\n",
            "640839                                                     Steck-Vaughn Working With Numbers: Algebra  ...  0.737411\n",
            "611577                                                                    Mental Arithmetic 1 (Bk. 1)  ...  0.730468\n",
            "725808                                                          Nimble With Numbers, Grades 5 &amp; 6  ...  0.728873\n",
            "713877                                                                       Excel Charts For Dummies  ...  0.723057\n",
            "2616777                                                                      Dialogues on mathematics  ...  0.718237\n",
            "\n",
            "[10 rows x 3 columns]\n"
          ]
        }
      ],
      "metadata": {
        "colab": {
          "base_uri": "https://localhost:8080/"
        },
        "id": "uXeSuG57Fgpi",
        "outputId": "02708dca-01e4-433f-93dc-d750824a84a4"
      }
    }
  ]
}