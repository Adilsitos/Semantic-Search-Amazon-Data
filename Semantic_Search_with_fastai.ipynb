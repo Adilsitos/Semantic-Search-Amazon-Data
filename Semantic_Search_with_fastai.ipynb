{
  "nbformat": 4,
  "nbformat_minor": 0,
  "metadata": {
    "colab": {
      "name": "Semantic Search with fastai",
      "provenance": [],
      "collapsed_sections": []
    },
    "kernelspec": {
      "name": "python3",
      "display_name": "Python 3"
    },
    "language_info": {
      "name": "python"
    },
    "accelerator": "GPU",
    "widgets": {
      "application/vnd.jupyter.widget-state+json": {
        "736bb7c4d2524ec69e3315ad7ae663c2": {
          "model_module": "@jupyter-widgets/controls",
          "model_name": "HBoxModel",
          "state": {
            "_view_name": "HBoxView",
            "_dom_classes": [],
            "_model_name": "HBoxModel",
            "_view_module": "@jupyter-widgets/controls",
            "_model_module_version": "1.5.0",
            "_view_count": null,
            "_view_module_version": "1.5.0",
            "box_style": "",
            "layout": "IPY_MODEL_adf5d6b91bb24a4f9f3f43236d82d114",
            "_model_module": "@jupyter-widgets/controls",
            "children": [
              "IPY_MODEL_fa9be7eb467c4458b32e93caa48618e4",
              "IPY_MODEL_7fecb5014d8d4f64860e7b6aba2d866c"
            ]
          }
        },
        "adf5d6b91bb24a4f9f3f43236d82d114": {
          "model_module": "@jupyter-widgets/base",
          "model_name": "LayoutModel",
          "state": {
            "_view_name": "LayoutView",
            "grid_template_rows": null,
            "right": null,
            "justify_content": null,
            "_view_module": "@jupyter-widgets/base",
            "overflow": null,
            "_model_module_version": "1.2.0",
            "_view_count": null,
            "flex_flow": null,
            "width": null,
            "min_width": null,
            "border": null,
            "align_items": null,
            "bottom": null,
            "_model_module": "@jupyter-widgets/base",
            "top": null,
            "grid_column": null,
            "overflow_y": null,
            "overflow_x": null,
            "grid_auto_flow": null,
            "grid_area": null,
            "grid_template_columns": null,
            "flex": null,
            "_model_name": "LayoutModel",
            "justify_items": null,
            "grid_row": null,
            "max_height": null,
            "align_content": null,
            "visibility": null,
            "align_self": null,
            "height": null,
            "min_height": null,
            "padding": null,
            "grid_auto_rows": null,
            "grid_gap": null,
            "max_width": null,
            "order": null,
            "_view_module_version": "1.2.0",
            "grid_template_areas": null,
            "object_position": null,
            "object_fit": null,
            "grid_auto_columns": null,
            "margin": null,
            "display": null,
            "left": null
          }
        },
        "fa9be7eb467c4458b32e93caa48618e4": {
          "model_module": "@jupyter-widgets/controls",
          "model_name": "FloatProgressModel",
          "state": {
            "_view_name": "ProgressView",
            "style": "IPY_MODEL_88a2234722c549309379ba55c368de1b",
            "_dom_classes": [],
            "description": "  0%",
            "_model_name": "FloatProgressModel",
            "bar_style": "",
            "max": 47684,
            "_view_module": "@jupyter-widgets/controls",
            "_model_module_version": "1.5.0",
            "value": 18,
            "_view_count": null,
            "_view_module_version": "1.5.0",
            "orientation": "horizontal",
            "min": 0,
            "description_tooltip": null,
            "_model_module": "@jupyter-widgets/controls",
            "layout": "IPY_MODEL_2c5c27144ef644618931423c810b34f5"
          }
        },
        "7fecb5014d8d4f64860e7b6aba2d866c": {
          "model_module": "@jupyter-widgets/controls",
          "model_name": "HTMLModel",
          "state": {
            "_view_name": "HTMLView",
            "style": "IPY_MODEL_a4530a36388242a0b344c3d041a69951",
            "_dom_classes": [],
            "description": "",
            "_model_name": "HTMLModel",
            "placeholder": "​",
            "_view_module": "@jupyter-widgets/controls",
            "_model_module_version": "1.5.0",
            "value": " 18/47684 [04:13&lt;201:49:57, 15.24s/it]",
            "_view_count": null,
            "_view_module_version": "1.5.0",
            "description_tooltip": null,
            "_model_module": "@jupyter-widgets/controls",
            "layout": "IPY_MODEL_9953a904b46b4796ad7e86c5c42708bc"
          }
        },
        "88a2234722c549309379ba55c368de1b": {
          "model_module": "@jupyter-widgets/controls",
          "model_name": "ProgressStyleModel",
          "state": {
            "_view_name": "StyleView",
            "_model_name": "ProgressStyleModel",
            "description_width": "initial",
            "_view_module": "@jupyter-widgets/base",
            "_model_module_version": "1.5.0",
            "_view_count": null,
            "_view_module_version": "1.2.0",
            "bar_color": null,
            "_model_module": "@jupyter-widgets/controls"
          }
        },
        "2c5c27144ef644618931423c810b34f5": {
          "model_module": "@jupyter-widgets/base",
          "model_name": "LayoutModel",
          "state": {
            "_view_name": "LayoutView",
            "grid_template_rows": null,
            "right": null,
            "justify_content": null,
            "_view_module": "@jupyter-widgets/base",
            "overflow": null,
            "_model_module_version": "1.2.0",
            "_view_count": null,
            "flex_flow": null,
            "width": null,
            "min_width": null,
            "border": null,
            "align_items": null,
            "bottom": null,
            "_model_module": "@jupyter-widgets/base",
            "top": null,
            "grid_column": null,
            "overflow_y": null,
            "overflow_x": null,
            "grid_auto_flow": null,
            "grid_area": null,
            "grid_template_columns": null,
            "flex": null,
            "_model_name": "LayoutModel",
            "justify_items": null,
            "grid_row": null,
            "max_height": null,
            "align_content": null,
            "visibility": null,
            "align_self": null,
            "height": null,
            "min_height": null,
            "padding": null,
            "grid_auto_rows": null,
            "grid_gap": null,
            "max_width": null,
            "order": null,
            "_view_module_version": "1.2.0",
            "grid_template_areas": null,
            "object_position": null,
            "object_fit": null,
            "grid_auto_columns": null,
            "margin": null,
            "display": null,
            "left": null
          }
        },
        "a4530a36388242a0b344c3d041a69951": {
          "model_module": "@jupyter-widgets/controls",
          "model_name": "DescriptionStyleModel",
          "state": {
            "_view_name": "StyleView",
            "_model_name": "DescriptionStyleModel",
            "description_width": "",
            "_view_module": "@jupyter-widgets/base",
            "_model_module_version": "1.5.0",
            "_view_count": null,
            "_view_module_version": "1.2.0",
            "_model_module": "@jupyter-widgets/controls"
          }
        },
        "9953a904b46b4796ad7e86c5c42708bc": {
          "model_module": "@jupyter-widgets/base",
          "model_name": "LayoutModel",
          "state": {
            "_view_name": "LayoutView",
            "grid_template_rows": null,
            "right": null,
            "justify_content": null,
            "_view_module": "@jupyter-widgets/base",
            "overflow": null,
            "_model_module_version": "1.2.0",
            "_view_count": null,
            "flex_flow": null,
            "width": null,
            "min_width": null,
            "border": null,
            "align_items": null,
            "bottom": null,
            "_model_module": "@jupyter-widgets/base",
            "top": null,
            "grid_column": null,
            "overflow_y": null,
            "overflow_x": null,
            "grid_auto_flow": null,
            "grid_area": null,
            "grid_template_columns": null,
            "flex": null,
            "_model_name": "LayoutModel",
            "justify_items": null,
            "grid_row": null,
            "max_height": null,
            "align_content": null,
            "visibility": null,
            "align_self": null,
            "height": null,
            "min_height": null,
            "padding": null,
            "grid_auto_rows": null,
            "grid_gap": null,
            "max_width": null,
            "order": null,
            "_view_module_version": "1.2.0",
            "grid_template_areas": null,
            "object_position": null,
            "object_fit": null,
            "grid_auto_columns": null,
            "margin": null,
            "display": null,
            "left": null
          }
        }
      }
    }
  },
  "cells": [
    {
      "cell_type": "markdown",
      "metadata": {
        "id": "7kdhvf0aN1x-"
      },
      "source": [
        "[![Open In Colab](https://colab.research.google.com/assets/colab-badge.svg)](https://colab.research.google.com/drive/1PIMtkozBnfeEvCuAQcHyTCQr7mYF3dLg#scrollTo=7kdhvf0aN1x-)"
      ]
    },
    {
      "cell_type": "markdown",
      "metadata": {
        "id": "SS44_DnBWw17"
      },
      "source": [
        "This notebook shows the process that was used to obtain embeddings for the book descriptions from 2,384,197 books contained in the \"Books\" category of the [Amazon Dataset Review dataset](http://deepyeti.ucsd.edu/jianmo/amazon/index.html) (Jianmo Ni, Jiacheng Li, Julian McAuley\n",
        "Empirical Methods in Natural Language Processing (EMNLP), 2019)."
      ]
    },
    {
      "cell_type": "code",
      "metadata": {
        "id": "ZXDOHvpr5bF-"
      },
      "source": [
        "# fastai is (almost) all you need\n",
        "\n",
        "!pip install -Uqq fastai"
      ],
      "execution_count": 3,
      "outputs": []
    },
    {
      "cell_type": "code",
      "metadata": {
        "id": "Uzs5rStwqOKi"
      },
      "source": [
        "import os\n",
        "import json\n",
        "import gzip\n",
        "import torch\n",
        "import pandas as pd\n",
        "import numpy as np\n",
        "\n",
        "from urllib.request import urlopen\n",
        "from tqdm.autonotebook import trange\n",
        "from fastai.text.all import *"
      ],
      "execution_count": 4,
      "outputs": []
    },
    {
      "cell_type": "markdown",
      "metadata": {
        "id": "eWEqT0URfSOD"
      },
      "source": [
        "# Get and parse data"
      ]
    },
    {
      "cell_type": "code",
      "metadata": {
        "colab": {
          "base_uri": "https://localhost:8080/"
        },
        "id": "KiuErXomtguM",
        "outputId": "bd89794f-b0d6-4faa-b277-8ffa833a3004"
      },
      "source": [
        "# Must have filled a form to use the data: https://forms.gle/A8hBfPxKkKGFCP238\n",
        "\n",
        "!wget http://deepyeti.ucsd.edu/jianmo/amazon/metaFiles2/meta_Books.json.gz"
      ],
      "execution_count": 5,
      "outputs": [
        {
          "output_type": "stream",
          "text": [
            "--2021-07-27 23:48:19--  http://deepyeti.ucsd.edu/jianmo/amazon/metaFiles2/meta_Books.json.gz\n",
            "Resolving deepyeti.ucsd.edu (deepyeti.ucsd.edu)... 169.228.63.50\n",
            "Connecting to deepyeti.ucsd.edu (deepyeti.ucsd.edu)|169.228.63.50|:80... connected.\n",
            "HTTP request sent, awaiting response... 200 OK\n",
            "Length: 1219104464 (1.1G) [application/octet-stream]\n",
            "Saving to: ‘meta_Books.json.gz’\n",
            "\n",
            "meta_Books.json.gz  100%[===================>]   1.13G  39.4MB/s    in 30s     \n",
            "\n",
            "2021-07-27 23:48:49 (38.8 MB/s) - ‘meta_Books.json.gz’ saved [1219104464/1219104464]\n",
            "\n"
          ],
          "name": "stdout"
        }
      ]
    },
    {
      "cell_type": "code",
      "metadata": {
        "colab": {
          "base_uri": "https://localhost:8080/"
        },
        "id": "D2pjvRVJqewJ",
        "outputId": "375a15d0-01f1-4902-cc51-42b80fa24808"
      },
      "source": [
        "# Get metadata for one book.\n",
        "\n",
        "with gzip.open('/content/meta_Books.json.gz') as g:\n",
        "  for l in g:\n",
        "    print (json.loads(l))\n",
        "    break"
      ],
      "execution_count": 6,
      "outputs": [
        {
          "output_type": "stream",
          "text": [
            "{'category': [], 'tech1': '', 'description': ['It is a biology book with God&apos;s perspective.'], 'fit': '', 'title': 'Biology Gods Living Creation Third Edition 10 (A Beka Book Science Series)', 'also_buy': ['0669009075', 'B000K2P5SA', 'B00MD4G2N0', 'B000ASIPTK', '0130508470', '1892427524', '0321567919', 'B000BJBH20', '0547484631', 'B000HAJTQO', 'B000AUCX7I', '0130365645', 'B000BI1Y2O', '0395976715', '052817729X', '1579246443', 'B001CK63XK', '1591669847', '0395879884', '836585161X', 'B01J2F9BH6', 'B00KYEHR4E', '158008141X', '1857928393', '0927545829', 'B015AR0RA0', 'B000TVHHRE', '0865167990', '1579246052', 'B003NXXVD4', 'B000OH6AX0', '061802087X', 'B000NU2X02', '0743252012'], 'tech2': '', 'brand': 'Keith Graham', 'feature': [], 'rank': '1,349,781 in Books (', 'also_view': ['0019777701', 'B000AUCX7I', 'B000K2P5SA', 'B001CK63XK', 'B01J2F9BH6', 'B000BI1Y2O', '1932012540', 'B0095ZCRCK'], 'main_cat': 'Books', 'similar_item': '', 'date': '', 'price': '$39.94', 'asin': '0000092878', 'imageURL': [], 'imageURLHighRes': []}\n"
          ],
          "name": "stdout"
        }
      ]
    },
    {
      "cell_type": "code",
      "metadata": {
        "id": "YBItWGIiq_f1"
      },
      "source": [
        "def parse(path):\n",
        "  \"\"\"\n",
        "  Open the JSON file and yield every line.\n",
        "  \"\"\"\n",
        "  with gzip.open(path) as g:\n",
        "    for l in g:\n",
        "      yield json.loads(l)\n",
        "\n",
        "def getDF(path, max_items=None):\n",
        "  \"\"\"\n",
        "  Get `max_items` and turn them into a pandas DataFrame. \n",
        "  \"\"\"\n",
        "  i = 0\n",
        "  df = {}\n",
        "  for d in parse(path):\n",
        "    if max_items and i == max_items:\n",
        "      break\n",
        "    df[i] = {}    \n",
        "    try:\n",
        "      df[i]['title'] = d['title']\n",
        "    except KeyError:\n",
        "      pass\n",
        "    try:\n",
        "      df[i]['description'] = d['description'][0] \n",
        "    except IndexError: \n",
        "      pass\n",
        "    i += 1\n",
        "  return pd.DataFrame.from_dict(df, orient='index', columns=['title', 'description'])"
      ],
      "execution_count": 7,
      "outputs": []
    },
    {
      "cell_type": "code",
      "metadata": {
        "id": "cS1veFbkrkUc"
      },
      "source": [
        "df = getDF('/content/meta_Books.json.gz', max_items=None)"
      ],
      "execution_count": 8,
      "outputs": []
    },
    {
      "cell_type": "code",
      "metadata": {
        "colab": {
          "base_uri": "https://localhost:8080/",
          "height": 484
        },
        "id": "2agtqqeP6k-p",
        "outputId": "7107040b-0e96-4027-b0fc-a98ac92d2348"
      },
      "source": [
        "df"
      ],
      "execution_count": 9,
      "outputs": [
        {
          "output_type": "execute_result",
          "data": {
            "text/html": [
              "<div>\n",
              "<style scoped>\n",
              "    .dataframe tbody tr th:only-of-type {\n",
              "        vertical-align: middle;\n",
              "    }\n",
              "\n",
              "    .dataframe tbody tr th {\n",
              "        vertical-align: top;\n",
              "    }\n",
              "\n",
              "    .dataframe thead th {\n",
              "        text-align: right;\n",
              "    }\n",
              "</style>\n",
              "<table border=\"1\" class=\"dataframe\">\n",
              "  <thead>\n",
              "    <tr style=\"text-align: right;\">\n",
              "      <th></th>\n",
              "      <th>title</th>\n",
              "      <th>description</th>\n",
              "    </tr>\n",
              "  </thead>\n",
              "  <tbody>\n",
              "    <tr>\n",
              "      <th>0</th>\n",
              "      <td>Biology Gods Living Creation Third Edition 10 (A Beka Book Science Series)</td>\n",
              "      <td>It is a biology book with God&amp;apos;s perspective.</td>\n",
              "    </tr>\n",
              "    <tr>\n",
              "      <th>1</th>\n",
              "      <td>Mksap 16 Audio Companion: Medical Knowledge Self-Assessment Program</td>\n",
              "      <td>NaN</td>\n",
              "    </tr>\n",
              "    <tr>\n",
              "      <th>2</th>\n",
              "      <td>Flex! Discography of North American Punk, Hardcore, and Powerpop 1975-1985 A-M</td>\n",
              "      <td>Discography of American Punk, Hardcore, and Power Pop</td>\n",
              "    </tr>\n",
              "    <tr>\n",
              "      <th>3</th>\n",
              "      <td>Heavenly Highway Hymns: Shaped-Note Hymnal</td>\n",
              "      <td>This is a collection of classic gospel hymns that many churches still enjoy singing today.</td>\n",
              "    </tr>\n",
              "    <tr>\n",
              "      <th>4</th>\n",
              "      <td>Georgina Goodman Nelson Womens Size 8.5 Purple Regular Suede Platforms Shoes</td>\n",
              "      <td>NaN</td>\n",
              "    </tr>\n",
              "    <tr>\n",
              "      <th>...</th>\n",
              "      <td>...</td>\n",
              "      <td>...</td>\n",
              "    </tr>\n",
              "    <tr>\n",
              "      <th>2934944</th>\n",
              "      <td>Made Men: A Thriller (Law of Retaliation Book 2) - Kindle edition</td>\n",
              "      <td>NaN</td>\n",
              "    </tr>\n",
              "    <tr>\n",
              "      <th>2934945</th>\n",
              "      <td>Raptor&amp;#39;s Desire (A Planet Desire novelette) - Kindle edition</td>\n",
              "      <td>NaN</td>\n",
              "    </tr>\n",
              "    <tr>\n",
              "      <th>2934946</th>\n",
              "      <td>LG K4 Case,LG Optimus Zone 3 Case,LG Spree Case,LG Rebel LTE Case,Veggzy[Kickstand]Slim Heavy Duty Shock Absorption Rugged Armor Dual Layer Hybird High Impact Resistant Defender Protective Hard Cover</td>\n",
              "      <td>NaN</td>\n",
              "    </tr>\n",
              "    <tr>\n",
              "      <th>2934947</th>\n",
              "      <td>Magickal Incantations</td>\n",
              "      <td>NaN</td>\n",
              "    </tr>\n",
              "    <tr>\n",
              "      <th>2934948</th>\n",
              "      <td>White Away EURO 2016 Match Football Soccer Adult Jersey</td>\n",
              "      <td>NaN</td>\n",
              "    </tr>\n",
              "  </tbody>\n",
              "</table>\n",
              "<p>2934949 rows × 2 columns</p>\n",
              "</div>"
            ],
            "text/plain": [
              "                                                                                                                                                                                                           title                                                                                 description\n",
              "0                                                                                                                                     Biology Gods Living Creation Third Edition 10 (A Beka Book Science Series)                                           It is a biology book with God&apos;s perspective.\n",
              "1                                                                                                                                            Mksap 16 Audio Companion: Medical Knowledge Self-Assessment Program                                                                                         NaN\n",
              "2                                                                                                                                 Flex! Discography of North American Punk, Hardcore, and Powerpop 1975-1985 A-M                                       Discography of American Punk, Hardcore, and Power Pop\n",
              "3                                                                                                                                                                     Heavenly Highway Hymns: Shaped-Note Hymnal  This is a collection of classic gospel hymns that many churches still enjoy singing today.\n",
              "4                                                                                                                                   Georgina Goodman Nelson Womens Size 8.5 Purple Regular Suede Platforms Shoes                                                                                         NaN\n",
              "...                                                                                                                                                                                                          ...                                                                                         ...\n",
              "2934944                                                                                                                                        Made Men: A Thriller (Law of Retaliation Book 2) - Kindle edition                                                                                         NaN\n",
              "2934945                                                                                                                                         Raptor&#39;s Desire (A Planet Desire novelette) - Kindle edition                                                                                         NaN\n",
              "2934946  LG K4 Case,LG Optimus Zone 3 Case,LG Spree Case,LG Rebel LTE Case,Veggzy[Kickstand]Slim Heavy Duty Shock Absorption Rugged Armor Dual Layer Hybird High Impact Resistant Defender Protective Hard Cover                                                                                         NaN\n",
              "2934947                                                                                                                                                                                    Magickal Incantations                                                                                         NaN\n",
              "2934948                                                                                                                                                  White Away EURO 2016 Match Football Soccer Adult Jersey                                                                                         NaN\n",
              "\n",
              "[2934949 rows x 2 columns]"
            ]
          },
          "metadata": {
            "tags": []
          },
          "execution_count": 9
        }
      ]
    },
    {
      "cell_type": "code",
      "metadata": {
        "id": "Kx9xlNKK70rd",
        "colab": {
          "base_uri": "https://localhost:8080/",
          "height": 484
        },
        "outputId": "1b43cb88-2513-4b8a-fc4b-2d594e5fbb68"
      },
      "source": [
        "print(df.isna().sum())\n",
        "df[df['description'].isna()]"
      ],
      "execution_count": 10,
      "outputs": [
        {
          "output_type": "stream",
          "text": [
            "title               0\n",
            "description    550752\n",
            "dtype: int64\n"
          ],
          "name": "stdout"
        },
        {
          "output_type": "execute_result",
          "data": {
            "text/html": [
              "<div>\n",
              "<style scoped>\n",
              "    .dataframe tbody tr th:only-of-type {\n",
              "        vertical-align: middle;\n",
              "    }\n",
              "\n",
              "    .dataframe tbody tr th {\n",
              "        vertical-align: top;\n",
              "    }\n",
              "\n",
              "    .dataframe thead th {\n",
              "        text-align: right;\n",
              "    }\n",
              "</style>\n",
              "<table border=\"1\" class=\"dataframe\">\n",
              "  <thead>\n",
              "    <tr style=\"text-align: right;\">\n",
              "      <th></th>\n",
              "      <th>title</th>\n",
              "      <th>description</th>\n",
              "    </tr>\n",
              "  </thead>\n",
              "  <tbody>\n",
              "    <tr>\n",
              "      <th>1</th>\n",
              "      <td>Mksap 16 Audio Companion: Medical Knowledge Self-Assessment Program</td>\n",
              "      <td>NaN</td>\n",
              "    </tr>\n",
              "    <tr>\n",
              "      <th>4</th>\n",
              "      <td>Georgina Goodman Nelson Womens Size 8.5 Purple Regular Suede Platforms Shoes</td>\n",
              "      <td>NaN</td>\n",
              "    </tr>\n",
              "    <tr>\n",
              "      <th>9</th>\n",
              "      <td>LJ Classique Interchangeable Ladies Gift Set Watches</td>\n",
              "      <td>NaN</td>\n",
              "    </tr>\n",
              "    <tr>\n",
              "      <th>10</th>\n",
              "      <td>Classic Soul Winner's New Testament Bible</td>\n",
              "      <td>NaN</td>\n",
              "    </tr>\n",
              "    <tr>\n",
              "      <th>13</th>\n",
              "      <td>The New England Historical and Genealogical Register, Vol 155, April 2001 (618)</td>\n",
              "      <td>NaN</td>\n",
              "    </tr>\n",
              "    <tr>\n",
              "      <th>...</th>\n",
              "      <td>...</td>\n",
              "      <td>...</td>\n",
              "    </tr>\n",
              "    <tr>\n",
              "      <th>2934944</th>\n",
              "      <td>Made Men: A Thriller (Law of Retaliation Book 2) - Kindle edition</td>\n",
              "      <td>NaN</td>\n",
              "    </tr>\n",
              "    <tr>\n",
              "      <th>2934945</th>\n",
              "      <td>Raptor&amp;#39;s Desire (A Planet Desire novelette) - Kindle edition</td>\n",
              "      <td>NaN</td>\n",
              "    </tr>\n",
              "    <tr>\n",
              "      <th>2934946</th>\n",
              "      <td>LG K4 Case,LG Optimus Zone 3 Case,LG Spree Case,LG Rebel LTE Case,Veggzy[Kickstand]Slim Heavy Duty Shock Absorption Rugged Armor Dual Layer Hybird High Impact Resistant Defender Protective Hard Cover</td>\n",
              "      <td>NaN</td>\n",
              "    </tr>\n",
              "    <tr>\n",
              "      <th>2934947</th>\n",
              "      <td>Magickal Incantations</td>\n",
              "      <td>NaN</td>\n",
              "    </tr>\n",
              "    <tr>\n",
              "      <th>2934948</th>\n",
              "      <td>White Away EURO 2016 Match Football Soccer Adult Jersey</td>\n",
              "      <td>NaN</td>\n",
              "    </tr>\n",
              "  </tbody>\n",
              "</table>\n",
              "<p>550752 rows × 2 columns</p>\n",
              "</div>"
            ],
            "text/plain": [
              "                                                                                                                                                                                                           title description\n",
              "1                                                                                                                                            Mksap 16 Audio Companion: Medical Knowledge Self-Assessment Program         NaN\n",
              "4                                                                                                                                   Georgina Goodman Nelson Womens Size 8.5 Purple Regular Suede Platforms Shoes         NaN\n",
              "9                                                                                                                                                           LJ Classique Interchangeable Ladies Gift Set Watches         NaN\n",
              "10                                                                                                                                                                     Classic Soul Winner's New Testament Bible         NaN\n",
              "13                                                                                                                               The New England Historical and Genealogical Register, Vol 155, April 2001 (618)         NaN\n",
              "...                                                                                                                                                                                                          ...         ...\n",
              "2934944                                                                                                                                        Made Men: A Thriller (Law of Retaliation Book 2) - Kindle edition         NaN\n",
              "2934945                                                                                                                                         Raptor&#39;s Desire (A Planet Desire novelette) - Kindle edition         NaN\n",
              "2934946  LG K4 Case,LG Optimus Zone 3 Case,LG Spree Case,LG Rebel LTE Case,Veggzy[Kickstand]Slim Heavy Duty Shock Absorption Rugged Armor Dual Layer Hybird High Impact Resistant Defender Protective Hard Cover         NaN\n",
              "2934947                                                                                                                                                                                    Magickal Incantations         NaN\n",
              "2934948                                                                                                                                                  White Away EURO 2016 Match Football Soccer Adult Jersey         NaN\n",
              "\n",
              "[550752 rows x 2 columns]"
            ]
          },
          "metadata": {
            "tags": []
          },
          "execution_count": 10
        }
      ]
    },
    {
      "cell_type": "code",
      "metadata": {
        "id": "WFvv7EcTr0cM",
        "colab": {
          "base_uri": "https://localhost:8080/",
          "height": 602
        },
        "outputId": "51e9993f-e9ab-44a7-a1b7-9dfd5dd84a60"
      },
      "source": [
        "df.dropna(inplace=True)\n",
        "df.reset_index(drop=True, inplace=True)\n",
        "df"
      ],
      "execution_count": 11,
      "outputs": [
        {
          "output_type": "execute_result",
          "data": {
            "text/html": [
              "<div>\n",
              "<style scoped>\n",
              "    .dataframe tbody tr th:only-of-type {\n",
              "        vertical-align: middle;\n",
              "    }\n",
              "\n",
              "    .dataframe tbody tr th {\n",
              "        vertical-align: top;\n",
              "    }\n",
              "\n",
              "    .dataframe thead th {\n",
              "        text-align: right;\n",
              "    }\n",
              "</style>\n",
              "<table border=\"1\" class=\"dataframe\">\n",
              "  <thead>\n",
              "    <tr style=\"text-align: right;\">\n",
              "      <th></th>\n",
              "      <th>title</th>\n",
              "      <th>description</th>\n",
              "    </tr>\n",
              "  </thead>\n",
              "  <tbody>\n",
              "    <tr>\n",
              "      <th>0</th>\n",
              "      <td>Biology Gods Living Creation Third Edition 10 (A Beka Book Science Series)</td>\n",
              "      <td>It is a biology book with God&amp;apos;s perspective.</td>\n",
              "    </tr>\n",
              "    <tr>\n",
              "      <th>1</th>\n",
              "      <td>Flex! Discography of North American Punk, Hardcore, and Powerpop 1975-1985 A-M</td>\n",
              "      <td>Discography of American Punk, Hardcore, and Power Pop</td>\n",
              "    </tr>\n",
              "    <tr>\n",
              "      <th>2</th>\n",
              "      <td>Heavenly Highway Hymns: Shaped-Note Hymnal</td>\n",
              "      <td>This is a collection of classic gospel hymns that many churches still enjoy singing today.</td>\n",
              "    </tr>\n",
              "    <tr>\n",
              "      <th>3</th>\n",
              "      <td>Principles of Analgesic Use in the Treatment of Acute Pain and Cancer Pain (APS, Principles of Analgesic Use in the Treatment of Acute Pain and Cancer Pain)</td>\n",
              "      <td>Brand new; never used.</td>\n",
              "    </tr>\n",
              "    <tr>\n",
              "      <th>4</th>\n",
              "      <td>MKSAP 15 Audio Companion</td>\n",
              "      <td>Flash cards used with accompany MKSAP 15 audio companion. \\nExtremely useful for board exam.</td>\n",
              "    </tr>\n",
              "    <tr>\n",
              "      <th>...</th>\n",
              "      <td>...</td>\n",
              "      <td>...</td>\n",
              "    </tr>\n",
              "    <tr>\n",
              "      <th>2384192</th>\n",
              "      <td>The Walking Dead The Official Magazine Issue # 17 Newsstand Cover</td>\n",
              "      <td>The OFFICIAL THE WALKING DEAD MAGAZINE #17. 100 PAGE ISSUE!!! Feature Interviews with Cast and Crew plus TONS MORE Loaded with Full Color Photos front to back.Comes with a special insert called The Walking Dead Collector's Models.</td>\n",
              "    </tr>\n",
              "    <tr>\n",
              "      <th>2384193</th>\n",
              "      <td>Busoni : Konzertstuck fur Klavier mit Orchester</td>\n",
              "      <td>Busoni, Ferruccio : Konzertstck fr Klavier mit Orchester. Op. 31a. Fr zwei Klaviere zu vier Hnden. (2. Klavier an Stelle des Orchesters). Piano Music - 2-Piano Scores This is an Eastman Scores Publishing professional reprint of the work originally published by: Breitkopf &amp; Hartel, Leipzig, 1892, 2 scores, 38 pp. Sheet Music Eastman Scores Publishing Library Commerce ISMN : 979-0-087-00129-8</td>\n",
              "    </tr>\n",
              "    <tr>\n",
              "      <th>2384194</th>\n",
              "      <td>Entertainment Weekly Magazine July 1 2016 | Star Wars Rogue One</td>\n",
              "      <td>New Entertainment Weekly Magazine July 1 2016 | Star Wars Rogue One</td>\n",
              "    </tr>\n",
              "    <tr>\n",
              "      <th>2384195</th>\n",
              "      <td>PLAYBOY MAGAZINE JULY/AUGUST 2016</td>\n",
              "      <td>this product was never view, only taken out of plastic cover.</td>\n",
              "    </tr>\n",
              "    <tr>\n",
              "      <th>2384196</th>\n",
              "      <td>Air &amp;amp; Space SMITHSONIAN Spy Planes</td>\n",
              "      <td>Pilots and Drones flying the world's most dangerous missions</td>\n",
              "    </tr>\n",
              "  </tbody>\n",
              "</table>\n",
              "<p>2384197 rows × 2 columns</p>\n",
              "</div>"
            ],
            "text/plain": [
              "                                                                                                                                                                title                                                                                                                                                                                                                                                                                                                                                                                                description\n",
              "0                                                                                          Biology Gods Living Creation Third Edition 10 (A Beka Book Science Series)                                                                                                                                                                                                                                                                                                                                                          It is a biology book with God&apos;s perspective.\n",
              "1                                                                                      Flex! Discography of North American Punk, Hardcore, and Powerpop 1975-1985 A-M                                                                                                                                                                                                                                                                                                                                                      Discography of American Punk, Hardcore, and Power Pop\n",
              "2                                                                                                                          Heavenly Highway Hymns: Shaped-Note Hymnal                                                                                                                                                                                                                                                                                                                 This is a collection of classic gospel hymns that many churches still enjoy singing today.\n",
              "3        Principles of Analgesic Use in the Treatment of Acute Pain and Cancer Pain (APS, Principles of Analgesic Use in the Treatment of Acute Pain and Cancer Pain)                                                                                                                                                                                                                                                                                                                                                                                     Brand new; never used.\n",
              "4                                                                                                                                            MKSAP 15 Audio Companion                                                                                                                                                                                                                                                                                                               Flash cards used with accompany MKSAP 15 audio companion. \\nExtremely useful for board exam.\n",
              "...                                                                                                                                                               ...                                                                                                                                                                                                                                                                                                                                                                                                        ...\n",
              "2384192                                                                                             The Walking Dead The Official Magazine Issue # 17 Newsstand Cover                                                                                                                                                                     The OFFICIAL THE WALKING DEAD MAGAZINE #17. 100 PAGE ISSUE!!! Feature Interviews with Cast and Crew plus TONS MORE Loaded with Full Color Photos front to back.Comes with a special insert called The Walking Dead Collector's Models.\n",
              "2384193                                                                                                               Busoni : Konzertstuck fur Klavier mit Orchester  Busoni, Ferruccio : Konzertstck fr Klavier mit Orchester. Op. 31a. Fr zwei Klaviere zu vier Hnden. (2. Klavier an Stelle des Orchesters). Piano Music - 2-Piano Scores This is an Eastman Scores Publishing professional reprint of the work originally published by: Breitkopf & Hartel, Leipzig, 1892, 2 scores, 38 pp. Sheet Music Eastman Scores Publishing Library Commerce ISMN : 979-0-087-00129-8\n",
              "2384194                                                                                               Entertainment Weekly Magazine July 1 2016 | Star Wars Rogue One                                                                                                                                                                                                                                                                                                                                        New Entertainment Weekly Magazine July 1 2016 | Star Wars Rogue One\n",
              "2384195                                                                                                                             PLAYBOY MAGAZINE JULY/AUGUST 2016                                                                                                                                                                                                                                                                                                                                              this product was never view, only taken out of plastic cover.\n",
              "2384196                                                                                                                        Air &amp; Space SMITHSONIAN Spy Planes                                                                                                                                                                                                                                                                                                                                               Pilots and Drones flying the world's most dangerous missions\n",
              "\n",
              "[2384197 rows x 2 columns]"
            ]
          },
          "metadata": {
            "tags": []
          },
          "execution_count": 11
        }
      ]
    },
    {
      "cell_type": "markdown",
      "metadata": {
        "id": "DThgjIKKfact"
      },
      "source": [
        "# Fine-tune Language Model"
      ]
    },
    {
      "cell_type": "markdown",
      "metadata": {
        "id": "vn1Hy96egTBW"
      },
      "source": [
        "## Create DataLoaders and Learner"
      ]
    },
    {
      "cell_type": "markdown",
      "metadata": {
        "id": "JkWWaIZySKUq"
      },
      "source": [
        "The random number generator is set to ensure that the same samples are drawn every time. It was necessary to sample from the complete dataset because it was not possible to avoid memory issues when working with the all the data. "
      ]
    },
    {
      "cell_type": "code",
      "metadata": {
        "id": "EaEyAYrXRYz1"
      },
      "source": [
        "rand_num_gen = np.random.default_rng(42)\n",
        "random_indices = rand_num_gen.integers(0, len(df), size=400_000)\n",
        "sampled_df = df.iloc[list(set(random_indices))]"
      ],
      "execution_count": 12,
      "outputs": []
    },
    {
      "cell_type": "code",
      "metadata": {
        "id": "oK4H9IEN4IT4",
        "colab": {
          "base_uri": "https://localhost:8080/",
          "height": 397
        },
        "outputId": "67dd7da4-efc5-4ea9-cf3e-10c30075f9ab"
      },
      "source": [
        "dls = TextDataLoaders.from_df(sampled_df, text_col=1, is_lm=True)\n",
        "dls.show_batch(max_n=3)"
      ],
      "execution_count": 13,
      "outputs": [
        {
          "output_type": "display_data",
          "data": {
            "text/html": [
              ""
            ],
            "text/plain": [
              "<IPython.core.display.HTML object>"
            ]
          },
          "metadata": {
            "tags": []
          }
        },
        {
          "output_type": "stream",
          "text": [
            "/usr/local/lib/python3.7/dist-packages/numpy/core/_asarray.py:83: VisibleDeprecationWarning: Creating an ndarray from ragged nested sequences (which is a list-or-tuple of lists-or-tuples-or ndarrays with different lengths or shapes) is deprecated. If you meant to do this, you must specify 'dtype=object' when creating the ndarray\n",
            "  return array(a, dtype, copy=False, order=order)\n"
          ],
          "name": "stderr"
        },
        {
          "output_type": "display_data",
          "data": {
            "text/html": [
              "<table border=\"1\" class=\"dataframe\">\n",
              "  <thead>\n",
              "    <tr style=\"text-align: right;\">\n",
              "      <th></th>\n",
              "      <th>text</th>\n",
              "      <th>text_</th>\n",
              "    </tr>\n",
              "  </thead>\n",
              "  <tbody>\n",
              "    <tr>\n",
              "      <th>0</th>\n",
              "      <td>xxbos xxmaj quick xxmaj overview \\n\\n xxmaj originally released as a devotional , this volume has been reprinted in the new 4-color , xxup xxunk format . xxmaj xxunk : el xxmaj seor viene brings xxmaj ellen xxmaj white 's statements on last - day events together to form an inspired preview of the closing events of earth 's history xxbos xxup aj is a believer that magic is just science we</td>\n",
              "      <td>xxmaj quick xxmaj overview \\n\\n xxmaj originally released as a devotional , this volume has been reprinted in the new 4-color , xxup xxunk format . xxmaj xxunk : el xxmaj seor viene brings xxmaj ellen xxmaj white 's statements on last - day events together to form an inspired preview of the closing events of earth 's history xxbos xxup aj is a believer that magic is just science we have</td>\n",
              "    </tr>\n",
              "    <tr>\n",
              "      <th>1</th>\n",
              "      <td>… this is the best by far ! \" -- xxmaj pamela xxup a. xxmaj mitchell , xxmaj pilot , xxmaj international xxmaj society of xxmaj women xxmaj airline xxmaj pilots xxbos xxbos xxmaj author xxmaj mike xxmaj butler has included some 200 of these photographs from the xxmaj library of xxmaj congress collection . xxmaj butler 's other books for xxmaj arcadia 's xxmaj images of xxmaj america series include xxmaj</td>\n",
              "      <td>this is the best by far ! \" -- xxmaj pamela xxup a. xxmaj mitchell , xxmaj pilot , xxmaj international xxmaj society of xxmaj women xxmaj airline xxmaj pilots xxbos xxbos xxmaj author xxmaj mike xxmaj butler has included some 200 of these photographs from the xxmaj library of xxmaj congress collection . xxmaj butler 's other books for xxmaj arcadia 's xxmaj images of xxmaj america series include xxmaj around</td>\n",
              "    </tr>\n",
              "    <tr>\n",
              "      <th>2</th>\n",
              "      <td>loves puppies and babysitting and is very creative . xxmaj she may have a disability , but she has a special ability to bring joy to everyone around her . xxmaj tara was at a birthday party at xxmaj allison 's house and looked at the artwork on her wall and could n't believe the drawings she saw . xxmaj they were exactly what she needed for her book . xxmaj tara</td>\n",
              "      <td>puppies and babysitting and is very creative . xxmaj she may have a disability , but she has a special ability to bring joy to everyone around her . xxmaj tara was at a birthday party at xxmaj allison 's house and looked at the artwork on her wall and could n't believe the drawings she saw . xxmaj they were exactly what she needed for her book . xxmaj tara had</td>\n",
              "    </tr>\n",
              "  </tbody>\n",
              "</table>"
            ],
            "text/plain": [
              "<IPython.core.display.HTML object>"
            ]
          },
          "metadata": {
            "tags": []
          }
        }
      ]
    },
    {
      "cell_type": "code",
      "metadata": {
        "id": "XMYKDEvWLRnL",
        "colab": {
          "base_uri": "https://localhost:8080/",
          "height": 17
        },
        "outputId": "931720c3-e4db-4062-8388-f34eeb99a117"
      },
      "source": [
        "learn = language_model_learner(dls, AWD_LSTM, drop_mult=0.3, metrics=[accuracy, Perplexity()]).to_fp16()"
      ],
      "execution_count": 14,
      "outputs": [
        {
          "output_type": "display_data",
          "data": {
            "text/html": [
              ""
            ],
            "text/plain": [
              "<IPython.core.display.HTML object>"
            ]
          },
          "metadata": {
            "tags": []
          }
        }
      ]
    },
    {
      "cell_type": "code",
      "metadata": {
        "id": "dMcpPQpyL6c3",
        "colab": {
          "base_uri": "https://localhost:8080/",
          "height": 80
        },
        "outputId": "3eeb6429-7b9d-4e61-9dde-6a5a837e6be0"
      },
      "source": [
        "learn.fit_one_cycle(1, 2e-2)"
      ],
      "execution_count": 15,
      "outputs": [
        {
          "output_type": "display_data",
          "data": {
            "text/html": [
              "<table border=\"1\" class=\"dataframe\">\n",
              "  <thead>\n",
              "    <tr style=\"text-align: left;\">\n",
              "      <th>epoch</th>\n",
              "      <th>train_loss</th>\n",
              "      <th>valid_loss</th>\n",
              "      <th>accuracy</th>\n",
              "      <th>perplexity</th>\n",
              "      <th>time</th>\n",
              "    </tr>\n",
              "  </thead>\n",
              "  <tbody>\n",
              "    <tr>\n",
              "      <td>0</td>\n",
              "      <td>3.680586</td>\n",
              "      <td>3.547758</td>\n",
              "      <td>0.378939</td>\n",
              "      <td>34.735355</td>\n",
              "      <td>32:55</td>\n",
              "    </tr>\n",
              "  </tbody>\n",
              "</table>"
            ],
            "text/plain": [
              "<IPython.core.display.HTML object>"
            ]
          },
          "metadata": {
            "tags": []
          }
        }
      ]
    },
    {
      "cell_type": "code",
      "metadata": {
        "id": "6RIpQsPGPNXX",
        "colab": {
          "base_uri": "https://localhost:8080/",
          "height": 80
        },
        "outputId": "4086fa5b-c756-43d0-b715-2e772010530a"
      },
      "source": [
        "learn.unfreeze()\n",
        "learn.fit_one_cycle(1, 2e-3)"
      ],
      "execution_count": 16,
      "outputs": [
        {
          "output_type": "display_data",
          "data": {
            "text/html": [
              "<table border=\"1\" class=\"dataframe\">\n",
              "  <thead>\n",
              "    <tr style=\"text-align: left;\">\n",
              "      <th>epoch</th>\n",
              "      <th>train_loss</th>\n",
              "      <th>valid_loss</th>\n",
              "      <th>accuracy</th>\n",
              "      <th>perplexity</th>\n",
              "      <th>time</th>\n",
              "    </tr>\n",
              "  </thead>\n",
              "  <tbody>\n",
              "    <tr>\n",
              "      <td>0</td>\n",
              "      <td>3.263917</td>\n",
              "      <td>3.257999</td>\n",
              "      <td>0.415339</td>\n",
              "      <td>25.997469</td>\n",
              "      <td>35:11</td>\n",
              "    </tr>\n",
              "  </tbody>\n",
              "</table>"
            ],
            "text/plain": [
              "<IPython.core.display.HTML object>"
            ]
          },
          "metadata": {
            "tags": []
          }
        }
      ]
    },
    {
      "cell_type": "markdown",
      "metadata": {
        "id": "Hw2OginzhXRy"
      },
      "source": [
        "## Test tokenizer and numericalization"
      ]
    },
    {
      "cell_type": "markdown",
      "metadata": {
        "id": "KNXO_glhSiQs"
      },
      "source": [
        "We verify that the tokenizer and the numericalizer work well by testing them with one sample from the DataFrame."
      ]
    },
    {
      "cell_type": "code",
      "metadata": {
        "id": "7Wh8kqblHNfi"
      },
      "source": [
        "sample_description = df.iloc[0]['description']"
      ],
      "execution_count": 19,
      "outputs": []
    },
    {
      "cell_type": "code",
      "metadata": {
        "id": "r7R1me5A3IMK",
        "colab": {
          "base_uri": "https://localhost:8080/"
        },
        "outputId": "6ccfab8d-a553-43b8-dc91-a61fda84e8fb"
      },
      "source": [
        "tok_sample = dls.tokenizer(sample_description)\n",
        "num_sample = dls.numericalize(tok_sample)\n",
        "print(f\"{tok_sample}\\n{num_sample}\")"
      ],
      "execution_count": 26,
      "outputs": [
        {
          "output_type": "stream",
          "text": [
            "['xxbos', 'xxmaj', 'it', 'is', 'a', 'biology', 'book', 'with', 'xxmaj', 'god', \"'s\", 'perspective', '.']\n",
            "TensorText([   2,    8,   39,   22,   14, 1844,   31,   25,    8,  185,   26,  766,\n",
            "          11])\n"
          ],
          "name": "stdout"
        }
      ]
    },
    {
      "cell_type": "markdown",
      "metadata": {
        "id": "EXpiKRTHheJV"
      },
      "source": [
        "# Get embeddings for all the book descriptions "
      ]
    },
    {
      "cell_type": "markdown",
      "metadata": {
        "id": "T9lySb3OSt6i"
      },
      "source": [
        "After fine-tuning the language model, we can use its encoder to pass the description from every book and obtain an embedding for each one.\n",
        "\n",
        "The first attempt to obtain the embeddings was a naive for-loop that processed 250 samples per minute. This means that it would take ~9,000 minutes (150 hours) to get all of the embeddings."
      ]
    },
    {
      "cell_type": "code",
      "metadata": {
        "id": "7xnH04ckPU0m"
      },
      "source": [
        "# Super slow\n",
        "# learn.model.eval()\n",
        "# embds = np.empty((len(df), 400))\n",
        "# i = 0\n",
        "\n",
        "# for description in df['description']:\n",
        "#   learn.model.reset()\n",
        "#   num_description = get_tokenized_description(dls, description)\n",
        "#   embeddings = learn.model[0](num_description[None])[0]\n",
        "#   mean_embeddings = embeddings.mean(0)\n",
        "#   embds[i,:] = mean_embeddings.cpu().data.numpy()\n",
        "#   i += 1\n",
        "#   print(i)"
      ],
      "execution_count": null,
      "outputs": []
    },
    {
      "cell_type": "markdown",
      "metadata": {
        "id": "CwvLuNmCTcP-"
      },
      "source": [
        "We now proceed to define a series of functions that will be part of the main `get_numpy_embeddings` function, batching the samples and using the GPU to accelerate the process. Getting the 2,384,197 embeddings took ~3 hours on a JarvisCloud instance (50x faster than the naive approach)."
      ]
    },
    {
      "cell_type": "code",
      "metadata": {
        "id": "VZJ-IAZQIDPu"
      },
      "source": [
        "def get_numericalized_description(dls, sentences):\n",
        "  \"\"\"\n",
        "  Tokenize and numericalize every sentence in sentences, and obtain the length \n",
        "  of the longest numericalized sentence. \n",
        "  \"\"\"\n",
        "  num_sentences = []\n",
        "  lengths = []\n",
        "  for sentence in sentences:\n",
        "    tok_description = dls.tokenizer(sentence)\n",
        "    num_description = dls.numericalize(tok_description)\n",
        "    num_sentences.append(num_description)\n",
        "    lengths.append(len(num_description))\n",
        "  return num_sentences, max(lengths)"
      ],
      "execution_count": 27,
      "outputs": []
    },
    {
      "cell_type": "code",
      "metadata": {
        "id": "cuOgWWxHL2cL"
      },
      "source": [
        "def batch_to_device(batch, target_device):\n",
        "    \"\"\"\n",
        "    Send a Pytorch batch to a device (CPU/GPU).\n",
        "    \"\"\"\n",
        "    for element in batch:\n",
        "        if isinstance(element, Tensor):\n",
        "            element = element.to(target_device)\n",
        "    return batch"
      ],
      "execution_count": 28,
      "outputs": []
    },
    {
      "cell_type": "code",
      "metadata": {
        "id": "B84x1_bXbIdl"
      },
      "source": [
        "def pad_to_max_length(batch, max_length):\n",
        "  \"\"\"\n",
        "  Pad all of the tensors in batch, so that all of the tensors have the a length\n",
        "  equal to max_length.\n",
        "  \"\"\"\n",
        "  tensors = []\n",
        "  for tensor in batch:\n",
        "    tensor = torch.nn.functional.pad(tensor, (0, max_length-len(tensor)), value=1)\n",
        "    tensors.append(tensor)\n",
        "  return tensors"
      ],
      "execution_count": 29,
      "outputs": []
    },
    {
      "cell_type": "code",
      "metadata": {
        "id": "fAaLXaPWqiT_"
      },
      "source": [
        "def get_numpy_embeddings(df, model, dls, batch_size=32, device='cuda'):\n",
        "    \"\"\"\n",
        "    Get embeddings for each description in df by passing them through the \n",
        "    encoder of model.\n",
        "    \"\"\"\n",
        "    learn.model.eval()\n",
        "    embds = np.empty((len(df), 400))\n",
        "    for start_index in trange(0, len(df), batch_size):\n",
        "        if (start_index + batch_size) < len(df):\n",
        "            sentences_batch = df['description'][start_index:start_index+batch_size]\n",
        "        else:\n",
        "            sentences_batch = df['description'][start_index:]\n",
        "        features, max_length = get_numericalized_description(dls, sentences_batch)\n",
        "        features = batch_to_device(features, device)\n",
        "        features = pad_to_max_length(features, max_length)\n",
        "        features = torch.stack(features)\n",
        "        model.reset()\n",
        "        embeddings = model[0](features)\n",
        "        mean_embeddings = embeddings.mean(1)\n",
        "        if (start_index + batch_size) < len(df):\n",
        "            embds[start_index:start_index+batch_size,:] = mean_embeddings.cpu().data.numpy()\n",
        "        else:\n",
        "            embds[start_index:,:] = mean_embeddings.cpu().data.numpy()\n",
        "    return embds"
      ],
      "execution_count": 30,
      "outputs": []
    },
    {
      "cell_type": "code",
      "metadata": {
        "colab": {
          "base_uri": "https://localhost:8080/",
          "height": 49,
          "referenced_widgets": [
            "736bb7c4d2524ec69e3315ad7ae663c2",
            "adf5d6b91bb24a4f9f3f43236d82d114",
            "fa9be7eb467c4458b32e93caa48618e4",
            "7fecb5014d8d4f64860e7b6aba2d866c",
            "88a2234722c549309379ba55c368de1b",
            "2c5c27144ef644618931423c810b34f5",
            "a4530a36388242a0b344c3d041a69951",
            "9953a904b46b4796ad7e86c5c42708bc"
          ]
        },
        "id": "LQ-_ZSavqx7C",
        "outputId": "30a53e66-dfaa-491d-9298-854fd2c7a105"
      },
      "source": [
        "embds = get_numpy_embeddings(df[:2_600_000], learn.model, dls, batch_size=50, device='cuda')"
      ],
      "execution_count": null,
      "outputs": [
        {
          "output_type": "display_data",
          "data": {
            "application/vnd.jupyter.widget-view+json": {
              "model_id": "736bb7c4d2524ec69e3315ad7ae663c2",
              "version_minor": 0,
              "version_major": 2
            },
            "text/plain": [
              "HBox(children=(FloatProgress(value=0.0, max=47684.0), HTML(value='')))"
            ]
          },
          "metadata": {
            "tags": []
          }
        }
      ]
    },
    {
      "cell_type": "markdown",
      "metadata": {
        "id": "hlcZeFDziBA-"
      },
      "source": [
        "# Save components for the application"
      ]
    },
    {
      "cell_type": "markdown",
      "metadata": {
        "id": "XOu5eciJWAmd"
      },
      "source": [
        "The components that are necessary to convert an input string into an embedding are saved so that they can be used in the web service used for the Streamlit app."
      ]
    },
    {
      "cell_type": "code",
      "metadata": {
        "id": "hu83lBUjJjII"
      },
      "source": [
        "torch.save(learn, 'fastai_learner.pt')"
      ],
      "execution_count": 31,
      "outputs": []
    },
    {
      "cell_type": "code",
      "metadata": {
        "id": "DRsuwUmuj185"
      },
      "source": [
        "torch.save(learn.model[0], 'fastai_model.pt')"
      ],
      "execution_count": 32,
      "outputs": []
    },
    {
      "cell_type": "code",
      "metadata": {
        "id": "QgpWvX9jRltm"
      },
      "source": [
        "torch.save(dls.tokenizer, 'fastai_tokenizer.pt')"
      ],
      "execution_count": 33,
      "outputs": []
    },
    {
      "cell_type": "code",
      "metadata": {
        "id": "v8Uq9_CzRZNA"
      },
      "source": [
        "torch.save(dls.numericalize, 'fastai_numericalize.pt')"
      ],
      "execution_count": 34,
      "outputs": []
    },
    {
      "cell_type": "code",
      "metadata": {
        "id": "zGkSjf5wjkOL"
      },
      "source": [
        "np.save('fastai_embeddings', embds)"
      ],
      "execution_count": null,
      "outputs": []
    },
    {
      "cell_type": "markdown",
      "metadata": {
        "id": "p99xr59mh2m8"
      },
      "source": [
        "# Test API endpoint"
      ]
    },
    {
      "cell_type": "markdown",
      "metadata": {
        "id": "BnrO3eGqWOxh"
      },
      "source": [
        "We can test the API endpoint that is used in the Streamlit app by sending a request just as a user would with the user interface. "
      ]
    },
    {
      "cell_type": "code",
      "metadata": {
        "colab": {
          "base_uri": "https://localhost:8080/"
        },
        "id": "uXeSuG57Fgpi",
        "outputId": "1d60da82-b9a5-4932-8f57-fe8c20a4bf82"
      },
      "source": [
        "import requests\n",
        "import json\n",
        "import pandas as pd\n",
        "\n",
        "input_json = json.dumps({\"search_string\": \"book about magic\", \"ID\": \"111\"})\n",
        "\n",
        "# Call the endpoint\n",
        "endpoint = 'http://50a9efd4-bbc1-4e53-b376-f44aac367846.southcentralus.azurecontainer.io/score'\n",
        "headers = { 'Content-Type':'application/json'} #prod wrap\n",
        "\n",
        "resp = requests.post(endpoint, input_json, headers=headers)\n",
        "print(resp)\n",
        "results = resp.text\n",
        "print(results)\n",
        "\n",
        "data = json.loads(results)\n",
        "df = pd.read_json(data['response'])\n",
        "print(df)"
      ],
      "execution_count": 37,
      "outputs": [
        {
          "output_type": "stream",
          "text": [
            "<Response [200]>\n",
            "{\"search_string\": \"book about magic\", \"ID\": \"111\", \"response\": \"{\\\"title\\\":{\\\"1061880\\\":\\\"The Chop Cup Book\\\",\\\"639523\\\":\\\"The Brothers' War - Artifacts Cycle - Book I\\\",\\\"2655344\\\":\\\"Lou Tannen's No. 11 Catalog of Magic\\\",\\\"2718869\\\":\\\"The Magic Menu: The First Five Years\\\",\\\"441178\\\":\\\"El libro mgico \\\\/ The Magic Book (El Chavo: 8x8) (Spanish Edition)\\\",\\\"2626821\\\":\\\"In a class by himself: The legacy of Don Alan\\\",\\\"901327\\\":\\\"The Structure of Magic II: A Book About Communication and Change\\\",\\\"2667398\\\":\\\"Steve Beam's Semi-Automatic Card Tricks Volume One\\\",\\\"683926\\\":\\\"Circle of Magic - books one and Two: Water &amp; Fire\\\",\\\"100622\\\":\\\"Magic Spell\\\"},\\\"description\\\":{\\\"1061880\\\":\\\"magic book\\\",\\\"639523\\\":\\\"Book based on Magic the Gathering.\\\",\\\"2655344\\\":\\\"Catalog of Magic\\\",\\\"2718869\\\":\\\"how to magic\\\",\\\"441178\\\":\\\"El libro mgico \\\\/ The Magic Book\\\",\\\"2626821\\\":\\\"Don Alan magic book\\\",\\\"901327\\\":\\\"This book is about magic it show's you the way of doing things.\\\",\\\"2667398\\\":\\\"card magic book\\\",\\\"683926\\\":\\\"Circle of Magic\\\",\\\"100622\\\":\\\"Magic Spell\\\"},\\\"scores\\\":{\\\"1061880\\\":0.912032485,\\\"639523\\\":0.9083991647,\\\"2655344\\\":0.8520613313,\\\"2718869\\\":0.843056798,\\\"441178\\\":0.8406146169,\\\"2626821\\\":0.8135478497,\\\"901327\\\":0.8083580136,\\\"2667398\\\":0.7965524197,\\\"683926\\\":0.7816374302,\\\"100622\\\":0.7606965899}}\"}\n",
            "                                                                     title  ...    scores\n",
            "1061880                                                  The Chop Cup Book  ...  0.912032\n",
            "639523                        The Brothers' War - Artifacts Cycle - Book I  ...  0.908399\n",
            "2655344                               Lou Tannen's No. 11 Catalog of Magic  ...  0.852061\n",
            "2718869                               The Magic Menu: The First Five Years  ...  0.843057\n",
            "441178   El libro mgico / The Magic Book (El Chavo: 8x8) (Spanish Edition)  ...  0.840615\n",
            "2626821                      In a class by himself: The legacy of Don Alan  ...  0.813548\n",
            "901327    The Structure of Magic II: A Book About Communication and Change  ...  0.808358\n",
            "2667398                 Steve Beam's Semi-Automatic Card Tricks Volume One  ...  0.796552\n",
            "683926               Circle of Magic - books one and Two: Water &amp; Fire  ...  0.781637\n",
            "100622                                                         Magic Spell  ...  0.760697\n",
            "\n",
            "[10 rows x 3 columns]\n"
          ],
          "name": "stdout"
        }
      ]
    },
    {
      "cell_type": "code",
      "metadata": {
        "id": "ChzPKw2DtVAB"
      },
      "source": [
        ""
      ],
      "execution_count": null,
      "outputs": []
    }
  ]
}